{
 "cells": [
  {
   "cell_type": "markdown",
   "id": "3620142d-a85e-45a1-8128-3b8fa41c3e6b",
   "metadata": {},
   "source": [
    "# ベンチマークデータセットのGCN"
   ]
  },
  {
   "cell_type": "code",
   "execution_count": 17,
   "id": "4e96e7ad-a96b-4f5a-a58b-af85fca8c85a",
   "metadata": {},
   "outputs": [],
   "source": [
    "import os\n",
    "import networkx as nx\n",
    "import torch\n",
    "import numpy as np\n",
    "import pandas as pd\n",
    "import sys\n",
    "sys.path.append(\"../codes\")\n",
    "\n",
    "import seaborn as sns\n",
    "import matplotlib.pyplot as plt\n",
    "%matplotlib inline"
   ]
  },
  {
   "cell_type": "code",
   "execution_count": 2,
   "id": "55b54d2d-b328-484f-892a-c0aab9d46adb",
   "metadata": {},
   "outputs": [],
   "source": [
    "from torch_geometric.data import Data, DataLoader\n",
    "from torch_geometric.datasets import TUDataset\n",
    "\n",
    "from model import GCN\n",
    "from train_test import train, test"
   ]
  },
  {
   "cell_type": "code",
   "execution_count": 3,
   "id": "7744ce28-5b1c-4f54-bcfa-0d1f5c6b8dca",
   "metadata": {},
   "outputs": [],
   "source": [
    "device = torch.device(\"cuda:0\" if torch.cuda.is_available() else \"cpu\")\n",
    "device"
   ]
  },
  {
   "cell_type": "code",
   "execution_count": 29,
   "id": "c759eb18-7f50-4ba1-942c-73f36a7e9dd0",
   "metadata": {},
   "outputs": [],
   "source": [
    "# data load and split\n",
    "dataset = TUDataset(root='data/TUDataset', name='MUTAG')\n",
    "\n",
    "torch.manual_seed(12345)\n",
    "dataset = dataset.shuffle()\n",
    "\n",
    "train_index = int(0.7 * len(dataset))\n",
    "\n",
    "train_dataset = dataset[:train_index]\n",
    "test_dataset = dataset[train_index:]\n",
    "\n",
    "train_loader = DataLoader(train_dataset, batch_size=100, shuffle=True)\n",
    "test_loader = DataLoader(test_dataset, batch_size=100, shuffle=False)"
   ]
  },
  {
   "cell_type": "code",
   "execution_count": 30,
   "id": "18549ce6-aaf5-4289-abf6-3121ef0b90f6",
   "metadata": {},
   "outputs": [
    {
     "name": "stdout",
     "output_type": "stream",
     "text": [
      "Epoch: 001, Train Acc: 0.6565, Test Acc: 0.6842\n",
      "Epoch: 002, Train Acc: 0.6565, Test Acc: 0.6842\n",
      "Epoch: 003, Train Acc: 0.6565, Test Acc: 0.6842\n",
      "Epoch: 004, Train Acc: 0.6565, Test Acc: 0.6842\n",
      "Epoch: 005, Train Acc: 0.6565, Test Acc: 0.6842\n",
      "Epoch: 006, Train Acc: 0.6565, Test Acc: 0.6842\n",
      "Epoch: 007, Train Acc: 0.6565, Test Acc: 0.6842\n",
      "Epoch: 008, Train Acc: 0.6565, Test Acc: 0.6842\n",
      "Epoch: 009, Train Acc: 0.6565, Test Acc: 0.6842\n",
      "Epoch: 010, Train Acc: 0.6718, Test Acc: 0.7018\n",
      "Epoch: 011, Train Acc: 0.7405, Test Acc: 0.7368\n",
      "Epoch: 012, Train Acc: 0.7176, Test Acc: 0.7193\n",
      "Epoch: 013, Train Acc: 0.7481, Test Acc: 0.7719\n",
      "Epoch: 014, Train Acc: 0.7328, Test Acc: 0.7368\n",
      "Epoch: 015, Train Acc: 0.7328, Test Acc: 0.7193\n",
      "Epoch: 016, Train Acc: 0.7252, Test Acc: 0.7544\n",
      "Epoch: 017, Train Acc: 0.7252, Test Acc: 0.7544\n",
      "Epoch: 018, Train Acc: 0.7328, Test Acc: 0.7368\n",
      "Epoch: 019, Train Acc: 0.7405, Test Acc: 0.7368\n"
     ]
    }
   ],
   "source": [
    "# set model and train\n",
    "model = GCN(hidden_channels=64, dataset=dataset)\n",
    "model.to(device)\n",
    "optimizer = torch.optim.Adam(model.parameters(), lr=0.01)\n",
    "criterion = torch.nn.CrossEntropyLoss()\n",
    "\n",
    "train_accs = []\n",
    "test_accs = []\n",
    "\n",
    "\n",
    "for epoch in range(1, 20):\n",
    "    train(model, train_loader, criterion, optimizer, device)\n",
    "    train_acc = test(model, train_loader, device)\n",
    "    test_acc = test(model, test_loader, device)\n",
    "    \n",
    "    train_accs.append(train_acc)\n",
    "    test_accs.append(test_acc)\n",
    "    \n",
    "    print(f'Epoch: {epoch:03d}, Train Acc: {train_acc:.4f}, Test Acc: {test_acc:.4f}')"
   ]
  },
  {
   "cell_type": "code",
   "execution_count": 31,
   "id": "f00f7e50-e556-4e24-806a-5f06da55fc16",
   "metadata": {},
   "outputs": [
    {
     "name": "stdout",
     "output_type": "stream",
     "text": [
      "data/TUDataset/MUTAG/result\n"
     ]
    }
   ],
   "source": [
    "# log を保存する\n",
    "save_dir = \"data/TUDataset/MUTAG/result\"\n",
    "\"\"\"log の保存\"\"\"\n",
    "# 保存先ディレクトリの作成\n",
    "print(save_dir)\n",
    "if not os.path.exists(save_dir):\n",
    "    os.makedirs(save_dir)\n",
    "# model(重み) の保存\n",
    "torch.save(model.to(\"cpu\").state_dict(), save_dir + \"/model.pth\")\n",
    "# 学習結果の保存\n",
    "\n",
    "df = pd.DataFrame()\n",
    "df[\"train_acc\"] = train_accs\n",
    "df[\"test_acc\"] = test_accs\n",
    "df.to_csv(save_dir + \"/log.csv\")\n",
    "# 学習曲線の保存\n",
    "plt.style.use('ggplot')\n",
    "plt.plot(train_accs, label=\"train\")\n",
    "plt.plot(test_accs, label=\"test\")\n",
    "plt.ylim(0,1)\n",
    "plt.legend()\n",
    "plt.savefig(save_dir + \"/learning.png\")\n",
    "plt.clf()\n",
    "plt.close()"
   ]
  }
 ],
 "metadata": {
  "kernelspec": {
   "display_name": "Python 3",
   "language": "python",
   "name": "python3"
  },
  "language_info": {
   "codemirror_mode": {
    "name": "ipython",
    "version": 3
   },
   "file_extension": ".py",
   "mimetype": "text/x-python",
   "name": "python",
   "nbconvert_exporter": "python",
   "pygments_lexer": "ipython3",
   "version": "3.8.8"
  }
 },
 "nbformat": 4,
 "nbformat_minor": 5
}
