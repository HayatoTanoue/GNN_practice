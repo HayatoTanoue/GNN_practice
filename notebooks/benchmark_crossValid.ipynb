{
 "cells": [
  {
   "cell_type": "markdown",
   "id": "bd4b96bf-ce4b-4fe9-9787-4308ae904904",
   "metadata": {},
   "source": [
    "# classic GCN"
   ]
  },
  {
   "cell_type": "code",
   "execution_count": 8,
   "id": "7d4f3330-aef5-4691-b280-e3ed287486f0",
   "metadata": {},
   "outputs": [],
   "source": [
    "import os\n",
    "import networkx as nx\n",
    "import torch\n",
    "import numpy as np\n",
    "import pandas as pd\n",
    "import sys\n",
    "sys.path.append(\"../codes\")\n",
    "\n",
    "import seaborn as sns\n",
    "import matplotlib.pyplot as plt\n",
    "%matplotlib inline\n",
    "\n",
    "from torch_geometric.data import Data, DataLoader\n",
    "from torch_geometric.datasets import TUDataset\n",
    "from torch_geometric.utils import to_networkx\n",
    "from sklearn.model_selection import KFold\n",
    "from torch.utils.data.dataset import Subset\n",
    "\n",
    "from model import GCN"
   ]
  },
  {
   "cell_type": "code",
   "execution_count": 9,
   "id": "81271a4c-b4c8-486d-9211-5b2ebd86f5d0",
   "metadata": {},
   "outputs": [],
   "source": [
    "def make_x(data):\n",
    "    for num in range(len(data.y)):\n",
    "        G = to_networkx(data[num])\n",
    "        new_x = torch.tensor(\n",
    "                [[i] for i in list(dict(nx.degree(G)).values())],\n",
    "                dtype=torch.float,\n",
    "            )\n",
    "        if num == 0:\n",
    "            x = new_x\n",
    "        else:\n",
    "            x = torch.cat([x, new_x])\n",
    "    return x"
   ]
  },
  {
   "cell_type": "code",
   "execution_count": 10,
   "id": "5d7f0ece-d38d-4628-9197-508db9bbbf8b",
   "metadata": {},
   "outputs": [],
   "source": [
    "# cv_train\n",
    "def cv_train(loader, model):\n",
    "    model.train()\n",
    "\n",
    "    for data in loader:  # Iterate in batches over the training dataset.\n",
    "        if data.x is None:\n",
    "#             print(\"n\")\n",
    "            data.x = make_x(data)\n",
    "        \n",
    "        data.to(device)\n",
    "        out = model(data.x, data.edge_index, data.batch)  # Perform a single forward pass.\n",
    "        loss = criterion(out, data.y)  # Compute the loss.\n",
    "        loss.backward()  # Derive gradients.\n",
    "        optimizer.step()  # Update parameters based on gradients.\n",
    "        optimizer.zero_grad()  # Clear gradients.\n",
    "\n",
    "# cv_valid\n",
    "def cv_test(loader, model):\n",
    "    model.eval()\n",
    "\n",
    "    correct = 0\n",
    "    for data in loader:  # Iterate in batches over the training/test dataset.\n",
    "        if data.x is None:\n",
    "#             print(\"n\")\n",
    "            data.x = make_x(data)\n",
    "        data.to(device)\n",
    "        out = model(data.x, data.edge_index, data.batch)\n",
    "        pred = out.argmax(dim=1)  # Use the class with highest probability.\n",
    "        correct += int((pred == data.y).sum())  # Check against ground-truth labels.\n",
    "\n",
    "    val_acc = correct / len(loader.dataset)  # Derive ratio of correct predictions.\n",
    "    return val_acc"
   ]
  },
  {
   "cell_type": "code",
   "execution_count": 11,
   "id": "27c68921-db69-4046-8e6b-4844dacaed31",
   "metadata": {},
   "outputs": [],
   "source": [
    "device = torch.device(\"cuda:0\" if torch.cuda.is_available() else \"cpu\")\n",
    "fold = KFold(\n",
    "    n_splits=10, shuffle=True, random_state=0\n",
    ")"
   ]
  },
  {
   "cell_type": "code",
   "execution_count": 45,
   "id": "b771af8a-fc93-4289-8e31-1078fc463a47",
   "metadata": {},
   "outputs": [
    {
     "data": {
      "text/plain": [
       "GCN(\n",
       "  (conv1): GCNConv(1, 64)\n",
       "  (conv2): GCNConv(64, 64)\n",
       "  (conv3): GCNConv(64, 64)\n",
       "  (lin): Linear(in_features=64, out_features=3, bias=True)\n",
       ")"
      ]
     },
     "execution_count": 45,
     "metadata": {},
     "output_type": "execute_result"
    }
   ],
   "source": [
    "model = GCN(64, dataset=dataset)\n",
    "model"
   ]
  },
  {
   "cell_type": "code",
   "execution_count": 12,
   "id": "f836ddea-7809-4b13-9088-6e47cf643385",
   "metadata": {},
   "outputs": [
    {
     "name": "stdout",
     "output_type": "stream",
     "text": [
      "COLLAB\n",
      "fold 0 : 0.68\n",
      "fold 1 : 0.664\n",
      "fold 2 : 0.69\n",
      "fold 3 : 0.68\n",
      "fold 4 : 0.654\n",
      "fold 5 : 0.66\n",
      "fold 6 : 0.688\n",
      "fold 7 : 0.67\n",
      "fold 8 : 0.66\n",
      "fold 9 : 0.638\n",
      "====================\n",
      "MUTAG\n",
      "fold 0 : 0.7368421052631579\n",
      "fold 1 : 0.7368421052631579\n",
      "fold 2 : 0.6842105263157895\n",
      "fold 3 : 0.8947368421052632\n",
      "fold 4 : 0.7368421052631579\n",
      "fold 5 : 0.8947368421052632\n",
      "fold 6 : 0.7894736842105263\n",
      "fold 7 : 0.5789473684210527\n",
      "fold 8 : 0.6666666666666666\n",
      "fold 9 : 0.6111111111111112\n",
      "====================\n",
      "REDDIT-BINARY\n",
      "fold 0 : 0.675\n",
      "fold 1 : 0.715\n",
      "fold 2 : 0.745\n",
      "fold 3 : 0.665\n",
      "fold 4 : 0.725\n",
      "fold 5 : 0.7\n",
      "fold 6 : 0.695\n",
      "fold 7 : 0.665\n",
      "fold 8 : 0.61\n",
      "fold 9 : 0.705\n",
      "====================\n",
      "DD\n",
      "fold 0 : 0.652542372881356\n",
      "fold 1 : 0.6864406779661016\n",
      "fold 2 : 0.7203389830508474\n",
      "fold 3 : 0.7627118644067796\n",
      "fold 4 : 0.711864406779661\n",
      "fold 5 : 0.7457627118644068\n",
      "fold 6 : 0.6779661016949152\n",
      "fold 7 : 0.7542372881355932\n",
      "fold 8 : 0.6923076923076923\n",
      "fold 9 : 0.7008547008547008\n",
      "====================\n"
     ]
    }
   ],
   "source": [
    "df = pd.DataFrame(columns=[\"name\", \"ave_acc\", \"std_acc\"])\n",
    "cnt = 0\n",
    "for name in [\"COLLAB\", \"MUTAG\", \"REDDIT-BINARY\", \"DD\"]:\n",
    "    print(name)\n",
    "    dataset = TUDataset(root='data/TUDataset', name=name)\n",
    "    torch.manual_seed(12345)\n",
    "    dataset = dataset.shuffle()\n",
    "\n",
    "    valid_accs = []\n",
    "    for fold_idx, (train_idx, valid_idx) in enumerate(fold.split(dataset, dataset.data.y)):\n",
    "        train_loader = DataLoader(\n",
    "            dataset[[i for i in train_idx]],\n",
    "            shuffle=True,\n",
    "            batch_size=10,\n",
    "        )\n",
    "        valid_loader = DataLoader(\n",
    "            dataset[[i for i in valid_idx]],\n",
    "            shuffle=False,\n",
    "            batch_size=10,\n",
    "        )\n",
    "\n",
    "        model = GCN(64, dataset=dataset)\n",
    "        model.to(device)\n",
    "\n",
    "        optimizer = torch.optim.Adagrad(model.parameters(), lr=0.01)\n",
    "        criterion = torch.nn.CrossEntropyLoss()\n",
    "\n",
    "        for epoch_idx in range(10):\n",
    "\n",
    "            cv_train(train_loader, model)\n",
    "            valid_acc = cv_test(valid_loader, model)\n",
    "\n",
    "        print(f\"fold {fold_idx} : {valid_acc}\")\n",
    "        valid_accs.append(valid_acc)\n",
    "    \n",
    "    print(\"=\"*20)\n",
    "    \n",
    "    s = pd.Series([name, np.average(valid_accs), np.std(valid_accs)], index=df.columns,name=cnt)\n",
    "    df = df.append(s)\n",
    "    cnt += 1"
   ]
  },
  {
   "cell_type": "code",
   "execution_count": 13,
   "id": "5bbe7047-b49f-4f70-b3d8-c5982def4f47",
   "metadata": {},
   "outputs": [],
   "source": [
    "df.to_csv(\"./paper_result/GCN_cv_degree.csv\")"
   ]
  },
  {
   "cell_type": "markdown",
   "id": "d7572264-269d-4e90-be10-ec275177e980",
   "metadata": {},
   "source": [
    "# DGCNN"
   ]
  },
  {
   "cell_type": "code",
   "execution_count": 14,
   "id": "3f6738da-d8f6-478c-aa40-98fdcc95d95f",
   "metadata": {},
   "outputs": [],
   "source": [
    "import os\n",
    "import networkx as nx\n",
    "import torch\n",
    "import numpy as np\n",
    "import pandas as pd\n",
    "import sys\n",
    "sys.path.append(\"../codes\")\n",
    "\n",
    "import seaborn as sns\n",
    "import matplotlib.pyplot as plt\n",
    "%matplotlib inline\n",
    "\n",
    "from torch_geometric.data import Data, DataLoader\n",
    "from torch_geometric.datasets import TUDataset\n",
    "from sklearn.model_selection import KFold\n",
    "from torch.utils.data.dataset import Subset\n",
    "\n",
    "from DGCNN import DGCNN_Model"
   ]
  },
  {
   "cell_type": "code",
   "execution_count": 15,
   "id": "8454b1be-39bc-4491-910e-7fcf71ee0138",
   "metadata": {},
   "outputs": [],
   "source": [
    "# cv_train\n",
    "def cv_train(loader, model, optimizer, criterion):\n",
    "    model.train()\n",
    "\n",
    "    for data in loader:  # Iterate in batches over the training dataset.\n",
    "        if data.x is None:\n",
    "            data.x = make_x(data)\n",
    "        data.to(device)\n",
    "        out = model(data)  # Perform a single forward pass.\n",
    "        loss = criterion(out, data.y)  # Compute the loss.\n",
    "        loss.backward()  # Derive gradients.\n",
    "        optimizer.step()  # Update parameters based on gradients.\n",
    "        optimizer.zero_grad()  # Clear gradients.\n",
    "\n",
    "# cv_valid\n",
    "def cv_test(loader, model,optimizer, criterion):\n",
    "    model.eval()\n",
    "\n",
    "    correct = 0\n",
    "    for data in loader:  # Iterate in batches over the training/test dataset.\n",
    "        if data.x is None:\n",
    "            data.x = make_x(data)\n",
    "        data.to(device)\n",
    "        out = model(data)\n",
    "        pred = out.argmax(dim=1)  # Use the class with highest probability.\n",
    "        correct += int((pred == data.y).sum())  # Check against ground-truth labels.\n",
    "\n",
    "    val_acc = correct / len(loader.dataset)  # Derive ratio of correct predictions.\n",
    "    return val_acc"
   ]
  },
  {
   "cell_type": "code",
   "execution_count": 16,
   "id": "d916f3ee-e275-4898-88df-042d5a9ad90d",
   "metadata": {},
   "outputs": [
    {
     "name": "stdout",
     "output_type": "stream",
     "text": [
      "MUTAG\n",
      "fold 0 : 0.8421052631578947\n",
      "fold 1 : 0.8421052631578947\n",
      "fold 2 : 0.8947368421052632\n",
      "fold 3 : 0.9473684210526315\n",
      "fold 4 : 0.8947368421052632\n",
      "fold 5 : 0.7894736842105263\n",
      "fold 6 : 0.7894736842105263\n",
      "fold 7 : 0.7894736842105263\n",
      "fold 8 : 0.8333333333333334\n",
      "fold 9 : 0.7222222222222222\n",
      "====================\n",
      "REDDIT-BINARY\n",
      "fold 0 : 0.73\n",
      "fold 1 : 0.735\n",
      "fold 2 : 0.79\n",
      "fold 3 : 0.76\n",
      "fold 4 : 0.775\n",
      "fold 5 : 0.825\n",
      "fold 6 : 0.82\n",
      "fold 7 : 0.705\n",
      "fold 8 : 0.8\n",
      "fold 9 : 0.75\n",
      "====================\n",
      "DD\n",
      "fold 0 : 0.7372881355932204\n",
      "fold 1 : 0.7711864406779662\n",
      "fold 2 : 0.711864406779661\n",
      "fold 3 : 0.7796610169491526\n",
      "fold 4 : 0.7627118644067796\n",
      "fold 5 : 0.8050847457627118\n",
      "fold 6 : 0.7033898305084746\n",
      "fold 7 : 0.7542372881355932\n",
      "fold 8 : 0.7863247863247863\n",
      "fold 9 : 0.7435897435897436\n",
      "====================\n",
      "COLLAB\n",
      "fold 0 : 0.712\n",
      "fold 1 : 0.704\n",
      "fold 2 : 0.722\n",
      "fold 3 : 0.702\n",
      "fold 4 : 0.66\n",
      "fold 5 : 0.644\n",
      "fold 6 : 0.696\n",
      "fold 7 : 0.648\n",
      "fold 8 : 0.662\n",
      "fold 9 : 0.632\n",
      "====================\n"
     ]
    }
   ],
   "source": [
    "df = pd.DataFrame(columns=[\"name\", \"ave_acc\", \"std_acc\"])\n",
    "cnt = 0\n",
    "for name in [\"MUTAG\", \"REDDIT-BINARY\", \"DD\", \"COLLAB\"]:\n",
    "    print(name)\n",
    "    dataset = TUDataset(root='data/TUDataset', name=name)\n",
    "    torch.manual_seed(12345)\n",
    "    dataset = dataset.shuffle()\n",
    "\n",
    "    valid_accs = []\n",
    "    for fold_idx, (train_idx, valid_idx) in enumerate(fold.split(dataset, dataset.data.y)):\n",
    "        train_loader = DataLoader(\n",
    "            dataset[[i for i in train_idx]],\n",
    "            shuffle=True,\n",
    "            batch_size=10,\n",
    "        )\n",
    "        valid_loader = DataLoader(\n",
    "            dataset[[i for i in valid_idx]],\n",
    "            shuffle=False,\n",
    "            batch_size=10,\n",
    "        )\n",
    "        if dataset.num_node_features == 0:\n",
    "            node_feature = 1\n",
    "        else:\n",
    "            node_feature = dataset.num_node_features\n",
    "        model = DGCNN_Model(node_feature, dataset.num_classes)\n",
    "        model.to(device)\n",
    "\n",
    "        optimizer = torch.optim.Adagrad(model.parameters(), lr=0.01)\n",
    "        criterion = torch.nn.CrossEntropyLoss()\n",
    "\n",
    "        for epoch_idx in range(10):\n",
    "\n",
    "            cv_train(train_loader, model, optimizer, criterion)\n",
    "            valid_acc = cv_test(valid_loader, model, optimizer, criterion)\n",
    "\n",
    "        print(f\"fold {fold_idx} : {valid_acc}\")\n",
    "        valid_accs.append(valid_acc)\n",
    "    \n",
    "    print(\"=\"*20)\n",
    "    \n",
    "    s = pd.Series([name, np.average(valid_accs), np.std(valid_accs)], index=df.columns,name=cnt)\n",
    "    df = df.append(s)\n",
    "    cnt += 1\n",
    "\n"
   ]
  },
  {
   "cell_type": "code",
   "execution_count": 17,
   "id": "a006bcbc-5dc0-4614-9d04-82e7b4de3adb",
   "metadata": {},
   "outputs": [],
   "source": [
    "df.to_csv(\"./paper_result/DGCNN_cv_degree.csv\")"
   ]
  },
  {
   "cell_type": "code",
   "execution_count": 62,
   "id": "bca0e95b-39f0-4b8b-92ba-1465a541ea70",
   "metadata": {},
   "outputs": [
    {
     "name": "stdout",
     "output_type": "stream",
     "text": [
      "MUTAG\n",
      "num dataset : 188\n",
      "num class : 2\n",
      "max nodes : 28\n",
      "average nodes : 17.930851063829788\n",
      "std nodes : 4.575664737098715\n",
      "====================\n",
      "REDDIT-BINARY\n",
      "num dataset : 2000\n",
      "num class : 2\n",
      "max nodes : 3782\n",
      "average nodes : 429.627\n",
      "std nodes : 554.0582305777978\n",
      "====================\n",
      "DD\n",
      "num dataset : 1178\n",
      "num class : 2\n",
      "max nodes : 5748\n",
      "average nodes : 284.3166383701188\n",
      "std nodes : 271.99968930043167\n",
      "====================\n",
      "COLLAB\n",
      "num dataset : 5000\n",
      "num class : 3\n",
      "max nodes : 492\n",
      "average nodes : 74.4948\n",
      "std nodes : 62.30084086880369\n",
      "====================\n"
     ]
    },
    {
     "data": {
      "image/png": "[encoded data removed]",
      "text/plain": [
       "<Figure size 1440x360 with 4 Axes>"
      ]
     },
     "metadata": {
      "needs_background": "light"
     },
     "output_type": "display_data"
    }
   ],
   "source": [
    "import matplotlib.pyplot as plt\n",
    "from collections import Counter\n",
    "\n",
    "%matplotlib inline\n",
    "\n",
    "fig, axes = plt.subplots(1,4, figsize=(20,5))\n",
    "\n",
    "y_max = [30, 900,900, 3000]\n",
    "set_y_max = [25, 800, 800, 2600]\n",
    "\n",
    "ax = axes.ravel()\n",
    "for i, name in enumerate([\"MUTAG\", \"REDDIT-BINARY\", \"DD\", \"COLLAB\"]):\n",
    "    print(name)\n",
    "    dataset = TUDataset(root='data/TUDataset', name=name)\n",
    "    torch.manual_seed(12345)\n",
    "    print(\"num dataset : \" + str(len(dataset)))\n",
    "    print(\"num class : \" + str(dataset.num_classes))\n",
    "    nodes = [d.num_nodes for d in dataset]\n",
    "    print(\"max nodes : \" + str(max(nodes)))\n",
    "    print(\"average nodes : \" + str(np.average(nodes)))\n",
    "    print(\"std nodes : \" + str(np.std(nodes)))\n",
    "    ax[i].hist(nodes, bins=30, label=name)\n",
    "    \n",
    "    ax[i].vlines(32, 0, y_max[i], color=\"y\", label=\"32\")\n",
    "    ax[i].vlines(np.average(nodes), 0, y_max[i], color=\"r\", label=\"ave\")\n",
    "    ax[i].vlines(np.average(nodes)*2, 0, y_max[i], color=\"g\", label=\"ave*2\")\n",
    "    \n",
    "    ax[i].set_ylim(0, set_y_max[i])\n",
    "    \n",
    "    ax[i].set_title(name)\n",
    "    ax[i].legend()\n",
    "    print(\"=\"*20)\n",
    "\n",
    "plt.savefig(\"benchmark_nodes_hist.png\", dpi=200)"
   ]
  },
  {
   "cell_type": "code",
   "execution_count": 236,
   "id": "9f5b0813-d6e6-435f-9813-5f4d22dc3141",
   "metadata": {},
   "outputs": [],
   "source": []
  },
  {
   "cell_type": "code",
   "execution_count": 18,
   "id": "862e96ae-2726-47cc-a793-893f3cbb9445",
   "metadata": {},
   "outputs": [],
   "source": [
    "from torch_geometric.nn import global_mean_pool"
   ]
  },
  {
   "cell_type": "code",
   "execution_count": 43,
   "id": "cb521950-2dc1-4053-b881-912a0ce6c3a3",
   "metadata": {},
   "outputs": [
    {
     "data": {
      "text/plain": [
       "tensor([[ 0,  0,  0,  0,  0,  0,  0,  0,  0,  0,  0,  0,  0,  0,  0,  0,  0,  0,\n",
       "          0,  0],\n",
       "        [ 0,  0,  0,  0,  0,  0,  0,  0,  0,  0,  0,  0,  0,  0,  0,  0,  0,  0,\n",
       "          0,  0],\n",
       "        [ 0,  0,  0,  0,  0,  0,  0,  0,  0,  0,  0,  0,  0,  0,  0,  0,  0,  0,\n",
       "          0,  0],\n",
       "        [ 0,  0,  0,  0,  0,  0,  0,  0,  0,  0,  0,  0,  0,  0,  0,  0,  0,  0,\n",
       "          0,  0],\n",
       "        [ 0,  1,  2,  3,  4,  5,  6,  7,  8,  9, 10, 11, 12, 13, 14, 15, 16, 17,\n",
       "         18, 19]])"
      ]
     },
     "execution_count": 43,
     "metadata": {},
     "output_type": "execute_result"
    }
   ],
   "source": [
    "global_mean_pool(torch.tensor([[i for i in range(20)] for _ in range(10)]), torch.tensor([4 for i in range(10)]))"
   ]
  },
  {
   "cell_type": "code",
   "execution_count": 30,
   "id": "21b4356b-e435-4cb0-82dd-250d6e971f4d",
   "metadata": {},
   "outputs": [],
   "source": [
    "for data in train_loader:\n",
    "    d = data\n",
    "    break"
   ]
  },
  {
   "cell_type": "code",
   "execution_count": 32,
   "id": "5ec0940e-158d-49a2-8cf8-0cf25600fa08",
   "metadata": {},
   "outputs": [
    {
     "data": {
      "text/plain": [
       "tensor([0, 0, 0, 0, 0, 0, 0, 0, 0, 0, 0, 0, 0, 0, 0, 0, 0, 0, 0, 0, 0, 0, 0, 0,\n",
       "        0, 0, 0, 0, 0, 0, 0, 0, 0, 0, 0, 0, 0, 0, 0, 0, 1, 1, 1, 1, 1, 1, 1, 1,\n",
       "        1, 1, 1, 1, 1, 1, 1, 1, 1, 1, 1, 1, 1, 1, 1, 1, 1, 1, 1, 1, 1, 1, 1, 1,\n",
       "        1, 1, 1, 1, 1, 1, 1, 1, 1, 2, 2, 2, 2, 2, 2, 2, 2, 2, 2, 2, 2, 2, 2, 2,\n",
       "        2, 2, 2, 2, 2, 2, 2, 2, 2, 2, 2, 2, 2, 2, 2, 2, 2, 2, 2, 2, 2, 2, 2, 2,\n",
       "        2, 2, 2, 3, 3, 3, 3, 3, 3, 3, 3, 3, 3, 3, 3, 3, 3, 3, 3, 3, 3, 3, 3, 3,\n",
       "        3, 3, 3, 3, 3, 3, 3, 3, 3, 3, 3, 3, 3, 3, 3, 3, 3, 3, 3, 3, 3, 3, 3, 3,\n",
       "        3, 3, 3, 3, 3, 3, 3, 3, 3, 3, 3, 3, 3, 3, 4, 4, 4, 4, 4, 4, 4, 4, 4, 4,\n",
       "        4, 4, 4, 4, 4, 4, 4, 4, 4, 4, 4, 4, 4, 4, 4, 4, 4, 4, 4, 4, 4, 4, 4, 4,\n",
       "        4, 4, 4, 4, 4, 4, 4, 4, 4, 4, 4, 4, 4, 4, 4, 4, 4, 4, 4, 4, 4, 4, 4, 4,\n",
       "        4, 4, 4, 4, 4, 4, 4, 4, 5, 5, 5, 5, 5, 5, 5, 5, 5, 5, 5, 5, 5, 5, 5, 5,\n",
       "        5, 5, 5, 5, 5, 5, 5, 5, 5, 5, 5, 5, 5, 5, 5, 5, 5, 5, 5, 5, 5, 5, 5, 5,\n",
       "        5, 5, 5, 5, 5, 5, 5, 5, 5, 5, 5, 5, 6, 6, 6, 6, 6, 6, 6, 6, 6, 6, 6, 6,\n",
       "        6, 6, 6, 6, 6, 6, 6, 6, 6, 6, 6, 6, 6, 6, 6, 6, 6, 6, 6, 6, 6, 6, 6, 6,\n",
       "        6, 6, 6, 6, 6, 6, 6, 6, 6, 7, 7, 7, 7, 7, 7, 7, 7, 7, 7, 7, 7, 7, 7, 7,\n",
       "        7, 7, 7, 7, 7, 7, 7, 7, 7, 7, 7, 7, 7, 7, 7, 7, 7, 7, 7, 7, 7, 7, 7, 7,\n",
       "        7, 7, 7, 7, 7, 7, 7, 7, 7, 7, 7, 7, 7, 7, 7, 7, 7, 7, 7, 7, 7, 7, 8, 8,\n",
       "        8, 8, 8, 8, 8, 8, 8, 8, 8, 8, 8, 8, 8, 8, 8, 8, 8, 8, 8, 8, 8, 8, 8, 8,\n",
       "        8, 8, 8, 8, 8, 8, 8, 8, 8, 8, 8, 8, 8, 8, 8, 8, 8, 8, 8, 8, 8, 8, 8, 8,\n",
       "        8, 8, 8, 8, 8, 8, 8, 8, 8, 8, 8, 8, 8, 8, 8, 8, 8, 8, 8, 8, 8, 8, 8, 8,\n",
       "        8, 8, 8, 8, 8, 8, 8, 8, 8, 8, 8, 8, 8, 8, 8, 8, 8, 9, 9, 9, 9, 9, 9, 9,\n",
       "        9, 9, 9, 9, 9, 9, 9, 9, 9, 9, 9, 9, 9, 9, 9, 9, 9, 9, 9, 9, 9, 9, 9, 9,\n",
       "        9, 9, 9, 9, 9, 9, 9, 9, 9, 9, 9, 9, 9, 9, 9, 9, 9, 9, 9, 9, 9, 9, 9, 9,\n",
       "        9, 9, 9, 9, 9, 9, 9])"
      ]
     },
     "execution_count": 32,
     "metadata": {},
     "output_type": "execute_result"
    }
   ],
   "source": [
    "data.batch"
   ]
  },
  {
   "cell_type": "code",
   "execution_count": 44,
   "id": "9b932e2b-d58a-42a4-9525-a1aaa7fc7dda",
   "metadata": {},
   "outputs": [
    {
     "data": {
      "text/plain": [
       "DGCNN_Model(\n",
       "  (conv1): GCNConv(1, 32)\n",
       "  (conv2): GCNConv(32, 32)\n",
       "  (conv3): GCNConv(32, 32)\n",
       "  (conv4): GCNConv(32, 1)\n",
       "  (conv5): Conv1d(1, 16, kernel_size=(97,), stride=(97,))\n",
       "  (conv6): Conv1d(16, 32, kernel_size=(5,), stride=(1,))\n",
       "  (pool): MaxPool1d(kernel_size=2, stride=2, padding=0, dilation=1, ceil_mode=False)\n",
       "  (classifier_1): Linear(in_features=352, out_features=128, bias=True)\n",
       "  (drop_out): Dropout(p=0.5, inplace=False)\n",
       "  (classifier_2): Linear(in_features=128, out_features=3, bias=True)\n",
       "  (relu): ReLU(inplace=True)\n",
       ")"
      ]
     },
     "execution_count": 44,
     "metadata": {},
     "output_type": "execute_result"
    }
   ],
   "source": [
    "model"
   ]
  },
  {
   "cell_type": "code",
   "execution_count": null,
   "id": "bb36fe11-49c6-434a-902b-d346c38bdd7e",
   "metadata": {},
   "outputs": [],
   "source": []
  }
 ],
 "metadata": {
  "kernelspec": {
   "display_name": "Python 3",
   "language": "python",
   "name": "python3"
  },
  "language_info": {
   "codemirror_mode": {
    "name": "ipython",
    "version": 3
   },
   "file_extension": ".py",
   "mimetype": "text/x-python",
   "name": "python",
   "nbconvert_exporter": "python",
   "pygments_lexer": "ipython3",
   "version": "3.8.8"
  }
 },
 "nbformat": 4,
 "nbformat_minor": 5
}
