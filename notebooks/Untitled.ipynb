{
 "cells": [
  {
   "cell_type": "code",
   "execution_count": 1,
   "id": "3ef46d7c-176a-4dd9-b1c5-92abbff3658b",
   "metadata": {},
   "outputs": [],
   "source": [
    "import networkx as nx\n",
    "import torch\n",
    "import numpy as np\n",
    "\n",
    "import sys\n",
    "sys.path.append(\"../codes\")\n",
    "from utils import no_growth_barabasi, no_preferential_attachment"
   ]
  },
  {
   "cell_type": "code",
   "execution_count": 10,
   "id": "e0fa267b-5a23-43d1-996b-7a28748dcc40",
   "metadata": {},
   "outputs": [],
   "source": [
    "from torch.nn import Linear\n",
    "import torch.nn.functional as F\n",
    "from torch_geometric.nn import GCNConv\n",
    "from torch_geometric.nn import global_mean_pool\n",
    "from torch_geometric.data import Data, DataLoader\n",
    "\n",
    "class GCN(torch.nn.Module):\n",
    "    def __init__(self, hidden_channels, num_classes):\n",
    "        super(GCN, self).__init__()\n",
    "        torch.manual_seed(12345)\n",
    "        self.conv1 = GCNConv(1, hidden_channels)\n",
    "        self.conv2 = GCNConv(hidden_channels, hidden_channels)\n",
    "        self.conv3 = GCNConv(hidden_channels, hidden_channels)\n",
    "        self.lin = Linear(hidden_channels, num_classes)\n",
    "\n",
    "    def forward(self, x, edge_index, batch):\n",
    "        # 1. Obtain node embeddings \n",
    "        x = self.conv1(x, edge_index)\n",
    "        x = x.relu()\n",
    "        x = self.conv2(x, edge_index)\n",
    "        x = x.relu()\n",
    "        x = self.conv3(x, edge_index)\n",
    "\n",
    "        # 2. Readout layer\n",
    "        x = global_mean_pool(x, batch)  # [batch_size, hidden_channels]\n",
    "\n",
    "        # 3. Apply a final classifier\n",
    "        x = F.dropout(x, p=0.5, training=self.training)\n",
    "        x = self.lin(x)\n",
    "        \n",
    "        return x"
   ]
  },
  {
   "cell_type": "code",
   "execution_count": 11,
   "id": "93a14810-47f1-4291-9bff-f86bfebf7466",
   "metadata": {},
   "outputs": [],
   "source": [
    "def train():\n",
    "    model.train()\n",
    "\n",
    "    for data in train_loader:  # Iterate in batches over the training dataset.\n",
    "        out = model(data.x, data.edge_index, data.batch)  # Perform a single forward pass.\n",
    "        loss = criterion(out, data.y)  # Compute the loss.\n",
    "        loss.backward()  # Derive gradients.\n",
    "        optimizer.step()  # Update parameters based on gradients.\n",
    "        optimizer.zero_grad()  # Clear gradients.\n",
    "\n",
    "def test(loader):\n",
    "    model.eval()\n",
    "\n",
    "    correct = 0\n",
    "    for data in loader:  # Iterate in batches over the training/test dataset.\n",
    "        out = model(data.x, data.edge_index, data.batch)  \n",
    "        pred = out.argmax(dim=1)  # Use the class with highest probability.\n",
    "        correct += int((pred == data.y).sum())  # Check against ground-truth labels.\n",
    "    return correct / len(loader.dataset)  # Derive ratio of correct predictions.\n"
   ]
  },
  {
   "cell_type": "code",
   "execution_count": 12,
   "id": "cc17a379-1360-416c-93f1-533c8f303f9f",
   "metadata": {},
   "outputs": [],
   "source": [
    "def make_data_from_nx(G, label):\n",
    "    # G = nx.barabasi_albert_graph(100, 2)\n",
    "    degs = list( dict(G.degree()).values())\n",
    "\n",
    "    # node attribute => degree\n",
    "    x = torch.tensor([[d] for d in degs], dtype=torch.float)\n",
    "\n",
    "    # make edge\n",
    "    edge_index = np.array(G.edges).T.tolist()\n",
    "    edge_index = torch.tensor(edge_index, dtype=torch.long)\n",
    "\n",
    "    return Data(x=x, edge_index=edge_index, y=torch.tensor([label]))"
   ]
  },
  {
   "cell_type": "code",
   "execution_count": 5,
   "id": "1f408259-828e-443d-9ec8-0edd07adb745",
   "metadata": {},
   "outputs": [],
   "source": [
    "data_list = []\n",
    "for _ in range(100):\n",
    "    # BA\n",
    "    G = nx.barabasi_albert_graph(100, 2)\n",
    "    data = make_data_from_nx(G, 0)\n",
    "    data_list.append(data)\n",
    "    \n",
    "    # no growth\n",
    "    G = no_growth_barabasi(100, 200)\n",
    "    data = make_data_from_nx(G, 1)\n",
    "    data_list.append(data)\n",
    "    \n",
    "    # no attach\n",
    "    G = no_preferential_attachment(100, 2)\n",
    "    data = make_data_from_nx(G, 2)\n",
    "    data_list.append(data)\n",
    "    \n",
    "    # random\n",
    "    G = nx.gnp_random_graph(100, 0.04)\n",
    "    data = make_data_from_nx(G, 3)\n",
    "    data_list.append(data)"
   ]
  },
  {
   "cell_type": "code",
   "execution_count": 13,
   "id": "6db61b76-b625-4cd8-9df5-ccbbe4e88b9c",
   "metadata": {},
   "outputs": [],
   "source": [
    "train_dataset = data_list[:300]\n",
    "test_dataset = data_list[300:]"
   ]
  },
  {
   "cell_type": "code",
   "execution_count": 14,
   "id": "7e46bf8c-c8f3-44c1-b437-e6e874b90c86",
   "metadata": {},
   "outputs": [],
   "source": [
    "train_loader = DataLoader(train_dataset, batch_size=10, shuffle=True)\n",
    "test_loader = DataLoader(test_dataset, batch_size=10, shuffle=False)"
   ]
  },
  {
   "cell_type": "code",
   "execution_count": 9,
   "id": "8e43054d-38c3-4f68-b67a-93dfcc20d975",
   "metadata": {},
   "outputs": [
    {
     "data": {
      "text/plain": [
       "<torch_geometric.data.dataloader.DataLoader at 0x7f73b36bff40>"
      ]
     },
     "execution_count": 9,
     "metadata": {},
     "output_type": "execute_result"
    }
   ],
   "source": [
    "train_loader"
   ]
  },
  {
   "cell_type": "code",
   "execution_count": 15,
   "id": "33d2dabb-cdf2-459d-9dc1-e71b8073b422",
   "metadata": {},
   "outputs": [
    {
     "name": "stdout",
     "output_type": "stream",
     "text": [
      "Epoch: 001, Train Acc: 0.5167, Test Acc: 0.5000\n",
      "Epoch: 002, Train Acc: 0.6867, Test Acc: 0.7300\n",
      "Epoch: 003, Train Acc: 0.7967, Test Acc: 0.7600\n",
      "Epoch: 004, Train Acc: 0.7433, Test Acc: 0.7400\n",
      "Epoch: 005, Train Acc: 0.7400, Test Acc: 0.7500\n",
      "Epoch: 006, Train Acc: 0.6567, Test Acc: 0.7200\n",
      "Epoch: 007, Train Acc: 0.8800, Test Acc: 0.9200\n",
      "Epoch: 008, Train Acc: 0.9133, Test Acc: 0.9500\n",
      "Epoch: 009, Train Acc: 0.8300, Test Acc: 0.8900\n"
     ]
    }
   ],
   "source": [
    "model = GCN(hidden_channels=64, num_classes=4)\n",
    "optimizer = torch.optim.Adam(model.parameters(), lr=0.01)\n",
    "criterion = torch.nn.CrossEntropyLoss()\n",
    "\n",
    "\n",
    "for epoch in range(1, 10):\n",
    "    train()\n",
    "    train_acc = test(train_loader)\n",
    "    test_acc = test(test_loader)\n",
    "    print(f'Epoch: {epoch:03d}, Train Acc: {train_acc:.4f}, Test Acc: {test_acc:.4f}')"
   ]
  },
  {
   "cell_type": "code",
   "execution_count": null,
   "id": "82940c66-b88a-44e3-8a1b-4d3f4efeecfb",
   "metadata": {},
   "outputs": [],
   "source": []
  }
 ],
 "metadata": {
  "kernelspec": {
   "display_name": "Python 3",
   "language": "python",
   "name": "python3"
  },
  "language_info": {
   "codemirror_mode": {
    "name": "ipython",
    "version": 3
   },
   "file_extension": ".py",
   "mimetype": "text/x-python",
   "name": "python",
   "nbconvert_exporter": "python",
   "pygments_lexer": "ipython3",
   "version": "3.8.8"
  }
 },
 "nbformat": 4,
 "nbformat_minor": 5
}
