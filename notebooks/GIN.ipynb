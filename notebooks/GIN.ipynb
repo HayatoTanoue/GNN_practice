{
 "cells": [
  {
   "cell_type": "markdown",
   "id": "cd9c8a6e-975f-4e21-806a-365fb7c58b19",
   "metadata": {},
   "source": [
    "# GIN 実験"
   ]
  },
  {
   "cell_type": "code",
   "execution_count": 2,
   "id": "db91c226-6464-4852-9fe8-2d5531031d36",
   "metadata": {},
   "outputs": [],
   "source": [
    "import sys\n",
    "sys.path.append(\"../codes\")"
   ]
  },
  {
   "cell_type": "code",
   "execution_count": 7,
   "id": "b5a1c1a1-8629-4619-9160-358cf7f8df8a",
   "metadata": {},
   "outputs": [],
   "source": [
    "from GIN import GIN\n",
    "\n",
    "from set_data_folder import make_train_data\n",
    "from optuna_cv_utils import cv_train, cv_test, make_datasets"
   ]
  },
  {
   "cell_type": "code",
   "execution_count": 8,
   "id": "f72bce5b-3f44-493f-b339-ca79193dc018",
   "metadata": {},
   "outputs": [
    {
     "name": "stderr",
     "output_type": "stream",
     "text": [
      "100%|██████████| 5000/5000 [00:10<00:00, 499.85it/s]\n",
      "100%|██████████| 5000/5000 [00:09<00:00, 510.19it/s]\n",
      "100%|██████████| 5000/5000 [00:09<00:00, 501.82it/s]\n",
      "100%|██████████| 5000/5000 [00:09<00:00, 504.03it/s]\n"
     ]
    }
   ],
   "source": [
    "m_list = [2, 4, 6, 8, 10]\n",
    "p_list = {\"100\": [0.04, 0.08, 0.11, 0.15, 0.19], \"1000\":[0.004, 0.008, 0.012, 0.016, 0.02]}\n",
    "step_list = {\"100\": [200, 384, 564, 736, 900], \"1000\":[1996, 3984, 5964, 7936, 9900]}\n",
    "\n",
    "cnt = 0\n",
    "for node in [\"100\", \"1000\"]:\n",
    "    for m, p, step in zip(m_list, p_list[node], step_list[node]):\n",
    "        # make train data folder\n",
    "        p_s = [\n",
    "            {\"kind\": \"barabasi\", \"node\": [node], \"p\": [str(m)]},\n",
    "            {\"kind\": \"noGrowth\", \"node\": [node], \"p\": [str(step)]},\n",
    "            {\"kind\": \"noAttach\", \"node\": [node], \"p\": [str(m)]},\n",
    "            {\"kind\": \"random\", \"node\": [node], \"p\": [str(p)]}\n",
    "        ]\n",
    "\n",
    "        # train data folderの作成\n",
    "        make_train_data(p_s, \"../train_data/net\").copy_data()\n",
    "        # dataset の作成\n",
    "        data_list = make_datasets()\n",
    "        break\n",
    "    break"
   ]
  },
  {
   "cell_type": "code",
   "execution_count": 9,
   "id": "eba1c5b1-76bf-4633-aab7-8f3d74532b18",
   "metadata": {},
   "outputs": [
    {
     "data": {
      "text/plain": [
       "Data(edge_index=[2, 392], x=[100, 1], y=[1])"
      ]
     },
     "execution_count": 9,
     "metadata": {},
     "output_type": "execute_result"
    }
   ],
   "source": [
    "data_list[0]"
   ]
  },
  {
   "cell_type": "code",
   "execution_count": 10,
   "id": "4bacc984-aa2c-48b0-80a0-df236615754c",
   "metadata": {},
   "outputs": [
    {
     "ename": "TypeError",
     "evalue": "__init__() missing 1 required positional argument: 'config'",
     "output_type": "error",
     "traceback": [
      "\u001b[0;31m---------------------------------------------------------------------------\u001b[0m",
      "\u001b[0;31mTypeError\u001b[0m                                 Traceback (most recent call last)",
      "\u001b[0;32m<ipython-input-10-7470cba6acca>\u001b[0m in \u001b[0;36m<module>\u001b[0;34m\u001b[0m\n\u001b[0;32m----> 1\u001b[0;31m \u001b[0mmodel\u001b[0m \u001b[0;34m=\u001b[0m \u001b[0mGIN\u001b[0m\u001b[0;34m(\u001b[0m\u001b[0;36m1\u001b[0m\u001b[0;34m,\u001b[0m \u001b[0;36m4\u001b[0m\u001b[0;34m)\u001b[0m\u001b[0;34m\u001b[0m\u001b[0;34m\u001b[0m\u001b[0m\n\u001b[0m",
      "\u001b[0;31mTypeError\u001b[0m: __init__() missing 1 required positional argument: 'config'"
     ]
    }
   ],
   "source": [
    "model = GIN(1, 4, config=)"
   ]
  },
  {
   "cell_type": "code",
   "execution_count": null,
   "id": "0c58a688-b719-4099-9968-4180d421ee4b",
   "metadata": {},
   "outputs": [],
   "source": []
  }
 ],
 "metadata": {
  "kernelspec": {
   "display_name": "Python 3",
   "language": "python",
   "name": "python3"
  },
  "language_info": {
   "codemirror_mode": {
    "name": "ipython",
    "version": 3
   },
   "file_extension": ".py",
   "mimetype": "text/x-python",
   "name": "python",
   "nbconvert_exporter": "python",
   "pygments_lexer": "ipython3",
   "version": "3.8.8"
  }
 },
 "nbformat": 4,
 "nbformat_minor": 5
}
