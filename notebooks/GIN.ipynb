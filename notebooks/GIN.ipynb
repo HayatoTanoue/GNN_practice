{
 "cells": [
  {
   "cell_type": "markdown",
   "id": "cd9c8a6e-975f-4e21-806a-365fb7c58b19",
   "metadata": {},
   "source": [
    "# GIN 実験"
   ]
  },
  {
   "cell_type": "code",
   "execution_count": 2,
   "id": "db91c226-6464-4852-9fe8-2d5531031d36",
   "metadata": {},
   "outputs": [],
   "source": [
    "import sys\n",
    "sys.path.append(\"../codes\")"
   ]
  },
  {
   "cell_type": "code",
   "execution_count": 3,
   "id": "b5a1c1a1-8629-4619-9160-358cf7f8df8a",
   "metadata": {},
   "outputs": [],
   "source": [
    "from GIN import GIN\n",
    "\n",
    "from set_data_folder import make_train_data\n",
    "from optuna_cv_utils import cv_train, cv_test, make_datasets"
   ]
  },
  {
   "cell_type": "code",
   "execution_count": 5,
   "id": "f72bce5b-3f44-493f-b339-ca79193dc018",
   "metadata": {},
   "outputs": [
    {
     "name": "stderr",
     "output_type": "stream",
     "text": [
      "100%|██████████| 5000/5000 [00:09<00:00, 515.48it/s]\n",
      "100%|██████████| 5000/5000 [00:09<00:00, 511.78it/s]\n",
      "100%|██████████| 5000/5000 [00:09<00:00, 514.69it/s]\n",
      "100%|██████████| 5000/5000 [00:09<00:00, 505.45it/s]\n"
     ]
    }
   ],
   "source": [
    "m_list = [2, 4, 6, 8, 10]\n",
    "p_list = {\"100\": [0.04, 0.08, 0.11, 0.15, 0.19], \"1000\":[0.004, 0.008, 0.012, 0.016, 0.02]}\n",
    "step_list = {\"100\": [200, 384, 564, 736, 900], \"1000\":[1996, 3984, 5964, 7936, 9900]}\n",
    "\n",
    "cnt = 0\n",
    "for node in [\"100\", \"1000\"]:\n",
    "    for m, p, step in zip(m_list, p_list[node], step_list[node]):\n",
    "        # make train data folder\n",
    "        p_s = [\n",
    "            {\"kind\": \"barabasi\", \"node\": [node], \"p\": [str(m)]},\n",
    "            {\"kind\": \"noGrowth\", \"node\": [node], \"p\": [str(step)]},\n",
    "            {\"kind\": \"noAttach\", \"node\": [node], \"p\": [str(m)]},\n",
    "            {\"kind\": \"random\", \"node\": [node], \"p\": [str(p)]}\n",
    "        ]\n",
    "\n",
    "        # train data folderの作成\n",
    "        make_train_data(p_s, \"../train_data/net\").copy_data()\n",
    "        # dataset の作成\n",
    "        data_list = make_datasets()\n",
    "        break\n",
    "    break"
   ]
  },
  {
   "cell_type": "code",
   "execution_count": 7,
   "id": "4bacc984-aa2c-48b0-80a0-df236615754c",
   "metadata": {},
   "outputs": [],
   "source": [
    "model = GIN(1, 4, config={\"aggregation\": \"sum\", \"dropout\": .5, \"hidden_units\": [32, 32, 32, 32],\"train_eps\": True})"
   ]
  },
  {
   "cell_type": "code",
   "execution_count": 12,
   "id": "0c58a688-b719-4099-9968-4180d421ee4b",
   "metadata": {},
   "outputs": [],
   "source": [
    "from torch_geometric.data import DataLoader\n",
    "from sklearn.model_selection import KFold\n",
    "from torch.utils.data.dataset import Subset"
   ]
  },
  {
   "cell_type": "code",
   "execution_count": 13,
   "id": "41e919a1-fd11-47d7-b7fb-0f7bf5ab9c3b",
   "metadata": {},
   "outputs": [],
   "source": [
    "# 交差検証\n",
    "fold = KFold(\n",
    "    n_splits=10, shuffle=True, random_state=0\n",
    ")\n",
    "\n",
    "valid_accs = []\n",
    "for fold_idx, (train_idx, valid_idx) in enumerate(fold.split(data_list)):\n",
    "    # split data\n",
    "    train_loader = DataLoader(\n",
    "        Subset(data_list, train_idx),\n",
    "        shuffle=True,\n",
    "        batch_size=32,\n",
    "    )\n",
    "    valid_loader = DataLoader(\n",
    "        Subset(data_list, valid_idx),\n",
    "        shuffle=False,\n",
    "        batch_size=32,\n",
    "    )\n"
   ]
  },
  {
   "cell_type": "code",
   "execution_count": 16,
   "id": "348c5915-c90a-4330-a55f-4b5305b170af",
   "metadata": {},
   "outputs": [],
   "source": [
    " for data in train_loader:\n",
    "        data"
   ]
  },
  {
   "cell_type": "code",
   "execution_count": 17,
   "id": "260ec29f-2607-48af-9d4b-656915079f6f",
   "metadata": {},
   "outputs": [
    {
     "data": {
      "text/plain": [
       "Batch(batch=[1600], edge_index=[2, 6332], ptr=[17], x=[1600, 1], y=[16])"
      ]
     },
     "execution_count": 17,
     "metadata": {},
     "output_type": "execute_result"
    }
   ],
   "source": [
    "data"
   ]
  },
  {
   "cell_type": "code",
   "execution_count": 18,
   "id": "93d3bd46-ef77-474d-a06b-2d9741f3f1fe",
   "metadata": {},
   "outputs": [
    {
     "data": {
      "text/plain": [
       "tensor([[   2.5753,  -22.8295,  -78.5072,   51.5859],\n",
       "        [  63.0097,  -24.0562,  -71.6452,   45.5452],\n",
       "        [   0.0000,   21.0925,   46.2954,   50.2420],\n",
       "        [ -72.5849,   61.1649, -111.4313,   -8.4696],\n",
       "        [  78.8011,  -57.3528,  -37.2146,    3.1903],\n",
       "        [  21.2603,  -37.2949,   15.4775,  -24.4933],\n",
       "        [   0.0000,  -60.1459,   85.9983,    9.2062],\n",
       "        [  54.8880,   -7.4800,  -40.4171,   49.8804],\n",
       "        [ -77.4148,  -87.4484, -114.1102,    8.1898],\n",
       "        [ -60.2667,  209.0860, -246.1641,  125.7522],\n",
       "        [  11.5964,   74.4288,  203.7564,  159.2501],\n",
       "        [  11.2604,  -57.8407,   35.1956,   64.5693],\n",
       "        [ -18.3615,   54.4935,  -74.7644,   -8.9300],\n",
       "        [ -16.6463,   -1.5691,  -46.5515,  -39.8660],\n",
       "        [  20.8994,   25.2620,  -40.9158,  -23.6744],\n",
       "        [ -10.5884,  -50.5821,  -73.7469,    0.0000]], grad_fn=<AddBackward0>)"
      ]
     },
     "execution_count": 18,
     "metadata": {},
     "output_type": "execute_result"
    }
   ],
   "source": [
    "model(data)"
   ]
  },
  {
   "cell_type": "code",
   "execution_count": null,
   "id": "0dfc45f3-07d7-42ab-8368-56e80dd79fd7",
   "metadata": {},
   "outputs": [],
   "source": []
  }
 ],
 "metadata": {
  "kernelspec": {
   "display_name": "Python 3",
   "language": "python",
   "name": "python3"
  },
  "language_info": {
   "codemirror_mode": {
    "name": "ipython",
    "version": 3
   },
   "file_extension": ".py",
   "mimetype": "text/x-python",
   "name": "python",
   "nbconvert_exporter": "python",
   "pygments_lexer": "ipython3",
   "version": "3.8.8"
  }
 },
 "nbformat": 4,
 "nbformat_minor": 5
}
