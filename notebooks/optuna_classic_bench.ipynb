{
 "cells": [
  {
   "cell_type": "markdown",
   "id": "4d569013-21ab-463c-ad74-8b958ffbb4ef",
   "metadata": {},
   "source": [
    "# ハイパラチューニング試し"
   ]
  },
  {
   "cell_type": "code",
   "execution_count": 1,
   "id": "63632f60-86d1-45ac-a569-4103e0d302a3",
   "metadata": {},
   "outputs": [],
   "source": [
    "import os\n",
    "import networkx as nx\n",
    "import torch\n",
    "import numpy as np\n",
    "import pandas as pd\n",
    "import sys\n",
    "sys.path.append(\"../codes\")\n",
    "\n",
    "from torch_geometric.data import Data, DataLoader\n",
    "from torch_geometric.datasets import TUDataset\n",
    "\n",
    "from model import GCN\n",
    "from train_test import train, test"
   ]
  },
  {
   "cell_type": "code",
   "execution_count": 13,
   "id": "398fdb56-328d-4b21-9048-7a73c8df239c",
   "metadata": {},
   "outputs": [],
   "source": []
  },
  {
   "cell_type": "code",
   "execution_count": 14,
   "id": "081c629f-962c-4cdb-a988-b159264e1a4d",
   "metadata": {},
   "outputs": [],
   "source": [
    "import torch.optim as optim\n",
    "\n",
    "def get_optimizer(trial, model):\n",
    "    # optimizer をAdamとMomentum SGDで探索\n",
    "    optimizer_names = ['Adam', 'MomentumSGD', \"Adagrad\"]\n",
    "    optimizer_name = trial.suggest_categorical('optimizer', optimizer_names)\n",
    "\n",
    "    # weight decayの探索\n",
    "    weight_decay = trial.suggest_loguniform('weight_decay', 1e-10, 1e-3)\n",
    "\n",
    "    # optimizer_nameで分岐\n",
    "    if optimizer_name == optimizer_names[0]: \n",
    "        adam_lr = trial.suggest_loguniform('adam_lr', 1e-5, 1e-1)\n",
    "        optimizer = optim.Adam(model.parameters(), lr=adam_lr, weight_decay=weight_decay)\n",
    "    elif optimizer_name == optimizer_names[2]:\n",
    "        adam_lr = trial.suggest_loguniform('adam_lr', 1e-5, 1e-1)\n",
    "        optimizer = optim.Adagrad(model.parameters(), lr=adam_lr, weight_decay=weight_decay)\n",
    "    else:\n",
    "        momentum_sgd_lr = trial.suggest_loguniform('momentum_sgd_lr', 1e-5, 1e-1)\n",
    "        optimizer = optim.SGD(model.parameters(), lr=momentum_sgd_lr,\n",
    "                            momentum=0.9, weight_decay=weight_decay)\n",
    "    return optimizer\n"
   ]
  },
  {
   "cell_type": "code",
   "execution_count": 21,
   "id": "567b5cd9-5da2-42c0-83e8-0b98cd864fbd",
   "metadata": {},
   "outputs": [],
   "source": [
    "import optuna\n",
    "import torch\n",
    "\n",
    "EPOCH = 10\n",
    "\n",
    "dataset = TUDataset(root='data/TUDataset', name=\"REDDIT-BINARY\")\n",
    "torch.manual_seed(12345)\n",
    "dataset = dataset.shuffle()\n",
    "\n",
    "index = int(len(dataset) * 0.7)\n",
    "train_dataset = dataset[:index]\n",
    "test_dataset = dataset[index:]\n",
    "\n",
    "train_loader = DataLoader(train_dataset, batch_size=10, shuffle=True)\n",
    "test_loader = DataLoader(test_dataset, batch_size=10, shuffle=False)\n",
    "\n",
    "def objective(trial):\n",
    "    device = torch.device(\"cuda:0\" if torch.cuda.is_available() else \"cpu\")\n",
    "\n",
    "    model = GCN(hidden_channels=64, dataset=dataset).to(device)\n",
    "    optimizer = get_optimizer(trial, model)\n",
    "    criterion = torch.nn.CrossEntropyLoss()\n",
    "    \n",
    "    # Training\n",
    "    for epoch in range(EPOCH):\n",
    "        train(model, train_loader, criterion, optimizer, device, x=\"degree\")\n",
    "        \n",
    "    # Evaluation\n",
    "    accuracy = test(model, test_loader, device, x=\"degree\")\n",
    "  \n",
    "    # 返り値が最小となるようにハイパーパラメータチューニングが実行される\n",
    "    return 1.0 - accuracy"
   ]
  },
  {
   "cell_type": "code",
   "execution_count": 22,
   "id": "574ee1df-40c4-477f-97ea-e9be30197439",
   "metadata": {},
   "outputs": [
    {
     "name": "stderr",
     "output_type": "stream",
     "text": [
      "\u001b[32m[I 2021-07-03 02:09:45,604]\u001b[0m A new study created in memory with name: no-name-5a3b4b90-5935-403f-907c-bd65674f4068\u001b[0m\n",
      "\u001b[32m[I 2021-07-03 02:10:32,405]\u001b[0m Trial 0 finished with value: 0.5066666666666666 and parameters: {'optimizer': 'Adagrad', 'weight_decay': 5.373332673782192e-10, 'adam_lr': 1.4488705372885993e-05}. Best is trial 0 with value: 0.5066666666666666.\u001b[0m\n",
      "\u001b[32m[I 2021-07-03 02:11:20,886]\u001b[0m Trial 1 finished with value: 0.30166666666666664 and parameters: {'optimizer': 'Adam', 'weight_decay': 0.000305649020550488, 'adam_lr': 0.001489638204378908}. Best is trial 1 with value: 0.30166666666666664.\u001b[0m\n",
      "\u001b[32m[I 2021-07-03 02:12:07,538]\u001b[0m Trial 2 finished with value: 0.5066666666666666 and parameters: {'optimizer': 'MomentumSGD', 'weight_decay': 1.0382669808627678e-10, 'momentum_sgd_lr': 1.3315403671341518e-05}. Best is trial 1 with value: 0.30166666666666664.\u001b[0m\n",
      "\u001b[32m[I 2021-07-03 02:12:53,533]\u001b[0m Trial 3 finished with value: 0.3383333333333334 and parameters: {'optimizer': 'MomentumSGD', 'weight_decay': 5.6110494665700243e-05, 'momentum_sgd_lr': 0.017575455628293556}. Best is trial 1 with value: 0.30166666666666664.\u001b[0m\n",
      "\u001b[32m[I 2021-07-03 02:13:41,650]\u001b[0m Trial 4 finished with value: 0.5066666666666666 and parameters: {'optimizer': 'Adagrad', 'weight_decay': 0.0006572681661536499, 'adam_lr': 0.0006108242499835806}. Best is trial 1 with value: 0.30166666666666664.\u001b[0m\n",
      "\u001b[32m[I 2021-07-03 02:14:28,273]\u001b[0m Trial 5 finished with value: 0.29000000000000004 and parameters: {'optimizer': 'Adagrad', 'weight_decay': 8.355080935248641e-05, 'adam_lr': 0.0046262985503346355}. Best is trial 5 with value: 0.29000000000000004.\u001b[0m\n",
      "\u001b[32m[I 2021-07-03 02:15:14,922]\u001b[0m Trial 6 finished with value: 0.5066666666666666 and parameters: {'optimizer': 'Adagrad', 'weight_decay': 6.979464091369309e-08, 'adam_lr': 2.0659517682869994e-05}. Best is trial 5 with value: 0.29000000000000004.\u001b[0m\n",
      "\u001b[32m[I 2021-07-03 02:16:03,204]\u001b[0m Trial 7 finished with value: 0.5066666666666666 and parameters: {'optimizer': 'MomentumSGD', 'weight_decay': 7.524144786958441e-06, 'momentum_sgd_lr': 1.5207195740037404e-05}. Best is trial 5 with value: 0.29000000000000004.\u001b[0m\n",
      "\u001b[32m[I 2021-07-03 02:16:49,700]\u001b[0m Trial 8 finished with value: 0.5066666666666666 and parameters: {'optimizer': 'Adagrad', 'weight_decay': 2.3144279387207058e-06, 'adam_lr': 0.00012223269146646861}. Best is trial 5 with value: 0.29000000000000004.\u001b[0m\n",
      "\u001b[32m[I 2021-07-03 02:17:37,557]\u001b[0m Trial 9 finished with value: 0.31000000000000005 and parameters: {'optimizer': 'MomentumSGD', 'weight_decay': 2.529797645194392e-08, 'momentum_sgd_lr': 0.0003150582912296849}. Best is trial 5 with value: 0.29000000000000004.\u001b[0m\n",
      "\u001b[32m[I 2021-07-03 02:18:24,577]\u001b[0m Trial 10 finished with value: 0.5066666666666666 and parameters: {'optimizer': 'Adam', 'weight_decay': 3.333071182615243e-05, 'adam_lr': 0.09408806316807153}. Best is trial 5 with value: 0.29000000000000004.\u001b[0m\n",
      "\u001b[32m[I 2021-07-03 02:19:14,359]\u001b[0m Trial 11 finished with value: 0.29666666666666663 and parameters: {'optimizer': 'Adam', 'weight_decay': 0.0007422030770071556, 'adam_lr': 0.01484325822943282}. Best is trial 5 with value: 0.29000000000000004.\u001b[0m\n",
      "\u001b[32m[I 2021-07-03 02:20:03,894]\u001b[0m Trial 12 finished with value: 0.31333333333333335 and parameters: {'optimizer': 'Adam', 'weight_decay': 0.0006763017500761177, 'adam_lr': 0.030203083136184163}. Best is trial 5 with value: 0.29000000000000004.\u001b[0m\n",
      "\u001b[32m[I 2021-07-03 02:20:52,262]\u001b[0m Trial 13 finished with value: 0.30000000000000004 and parameters: {'optimizer': 'Adam', 'weight_decay': 9.871244614423741e-07, 'adam_lr': 0.005524060210394608}. Best is trial 5 with value: 0.29000000000000004.\u001b[0m\n",
      "\u001b[32m[I 2021-07-03 02:21:39,908]\u001b[0m Trial 14 finished with value: 0.31666666666666665 and parameters: {'optimizer': 'Adam', 'weight_decay': 5.62054964029232e-05, 'adam_lr': 0.011612221043711212}. Best is trial 5 with value: 0.29000000000000004.\u001b[0m\n",
      "\u001b[32m[I 2021-07-03 02:22:27,416]\u001b[0m Trial 15 finished with value: 0.30666666666666664 and parameters: {'optimizer': 'Adagrad', 'weight_decay': 0.0009537213539260671, 'adam_lr': 0.0027335559046702605}. Best is trial 5 with value: 0.29000000000000004.\u001b[0m\n",
      "\u001b[32m[I 2021-07-03 02:23:14,323]\u001b[0m Trial 16 finished with value: 0.5066666666666666 and parameters: {'optimizer': 'Adam', 'weight_decay': 0.00012245025488680973, 'adam_lr': 0.08655491078810594}. Best is trial 5 with value: 0.29000000000000004.\u001b[0m\n",
      "\u001b[32m[I 2021-07-03 02:24:01,205]\u001b[0m Trial 17 finished with value: 0.29500000000000004 and parameters: {'optimizer': 'Adagrad', 'weight_decay': 8.815517822738308e-06, 'adam_lr': 0.016299813547894927}. Best is trial 5 with value: 0.29000000000000004.\u001b[0m\n",
      "\u001b[32m[I 2021-07-03 02:24:49,529]\u001b[0m Trial 18 finished with value: 0.5066666666666666 and parameters: {'optimizer': 'Adagrad', 'weight_decay': 8.162633621132268e-06, 'adam_lr': 0.0003885967115983121}. Best is trial 5 with value: 0.29000000000000004.\u001b[0m\n",
      "\u001b[32m[I 2021-07-03 02:25:37,356]\u001b[0m Trial 19 finished with value: 0.29333333333333333 and parameters: {'optimizer': 'Adagrad', 'weight_decay': 2.8454237742639334e-07, 'adam_lr': 0.03662147901347352}. Best is trial 5 with value: 0.29000000000000004.\u001b[0m\n",
      "\u001b[32m[I 2021-07-03 02:26:25,894]\u001b[0m Trial 20 finished with value: 0.265 and parameters: {'optimizer': 'Adagrad', 'weight_decay': 1.11365940698402e-08, 'adam_lr': 0.05076438981808401}. Best is trial 20 with value: 0.265.\u001b[0m\n",
      "\u001b[32m[I 2021-07-03 02:27:13,562]\u001b[0m Trial 21 finished with value: 0.28500000000000003 and parameters: {'optimizer': 'Adagrad', 'weight_decay': 1.0798492010562079e-08, 'adam_lr': 0.05157505591382687}. Best is trial 20 with value: 0.265.\u001b[0m\n",
      "\u001b[32m[I 2021-07-03 02:28:01,824]\u001b[0m Trial 22 finished with value: 0.2816666666666666 and parameters: {'optimizer': 'Adagrad', 'weight_decay': 2.2865597893483547e-09, 'adam_lr': 0.07612226301383727}. Best is trial 20 with value: 0.265.\u001b[0m\n",
      "\u001b[32m[I 2021-07-03 02:28:49,414]\u001b[0m Trial 23 finished with value: 0.29833333333333334 and parameters: {'optimizer': 'Adagrad', 'weight_decay': 4.226176557609202e-09, 'adam_lr': 0.09553009870149136}. Best is trial 20 with value: 0.265.\u001b[0m\n",
      "\u001b[32m[I 2021-07-03 02:29:37,514]\u001b[0m Trial 24 finished with value: 0.28500000000000003 and parameters: {'optimizer': 'Adagrad', 'weight_decay': 2.5621113052997354e-09, 'adam_lr': 0.049973901252254524}. Best is trial 20 with value: 0.265.\u001b[0m\n",
      "\u001b[32m[I 2021-07-03 02:30:24,998]\u001b[0m Trial 25 finished with value: 0.29500000000000004 and parameters: {'optimizer': 'Adagrad', 'weight_decay': 1.1278809299553643e-09, 'adam_lr': 0.03291266001470936}. Best is trial 20 with value: 0.265.\u001b[0m\n",
      "\u001b[32m[I 2021-07-03 02:31:12,980]\u001b[0m Trial 26 finished with value: 0.3533333333333334 and parameters: {'optimizer': 'Adagrad', 'weight_decay': 1.9405538636106146e-08, 'adam_lr': 0.09419769337232195}. Best is trial 20 with value: 0.265.\u001b[0m\n",
      "\u001b[32m[I 2021-07-03 02:32:00,759]\u001b[0m Trial 27 finished with value: 0.29500000000000004 and parameters: {'optimizer': 'Adagrad', 'weight_decay': 1.9659061873941406e-10, 'adam_lr': 0.01042910808686827}. Best is trial 20 with value: 0.265.\u001b[0m\n",
      "\u001b[32m[I 2021-07-03 02:32:48,185]\u001b[0m Trial 28 finished with value: 0.29166666666666663 and parameters: {'optimizer': 'Adagrad', 'weight_decay': 3.047272521413065e-09, 'adam_lr': 0.052606753040113294}. Best is trial 20 with value: 0.265.\u001b[0m\n",
      "\u001b[32m[I 2021-07-03 02:33:35,690]\u001b[0m Trial 29 finished with value: 0.29333333333333333 and parameters: {'optimizer': 'Adagrad', 'weight_decay': 3.334316474432375e-10, 'adam_lr': 0.02403442081966434}. Best is trial 20 with value: 0.265.\u001b[0m\n",
      "\u001b[32m[I 2021-07-03 02:34:23,476]\u001b[0m Trial 30 finished with value: 0.29333333333333333 and parameters: {'optimizer': 'Adagrad', 'weight_decay': 1.537083063570784e-08, 'adam_lr': 0.006000379254518589}. Best is trial 20 with value: 0.265.\u001b[0m\n",
      "\u001b[32m[I 2021-07-03 02:35:12,328]\u001b[0m Trial 31 finished with value: 0.2716666666666666 and parameters: {'optimizer': 'Adagrad', 'weight_decay': 1.0906322394143357e-09, 'adam_lr': 0.05064332657499491}. Best is trial 20 with value: 0.265.\u001b[0m\n",
      "\u001b[32m[I 2021-07-03 02:36:00,464]\u001b[0m Trial 32 finished with value: 0.31999999999999995 and parameters: {'optimizer': 'Adagrad', 'weight_decay': 7.542357458284073e-10, 'adam_lr': 0.06276473901041371}. Best is trial 20 with value: 0.265.\u001b[0m\n",
      "\u001b[32m[I 2021-07-03 02:36:48,382]\u001b[0m Trial 33 finished with value: 0.29166666666666663 and parameters: {'optimizer': 'Adagrad', 'weight_decay': 8.278957516161288e-09, 'adam_lr': 0.020834476538605293}. Best is trial 20 with value: 0.265.\u001b[0m\n",
      "\u001b[32m[I 2021-07-03 02:37:36,809]\u001b[0m Trial 34 finished with value: 0.29166666666666663 and parameters: {'optimizer': 'Adagrad', 'weight_decay': 2.1188363206205135e-09, 'adam_lr': 0.04843113643011375}. Best is trial 20 with value: 0.265.\u001b[0m\n",
      "\u001b[32m[I 2021-07-03 02:38:24,942]\u001b[0m Trial 35 finished with value: 0.29500000000000004 and parameters: {'optimizer': 'Adagrad', 'weight_decay': 1.0193225956631871e-10, 'adam_lr': 0.009991699983247533}. Best is trial 20 with value: 0.265.\u001b[0m\n",
      "\u001b[32m[I 2021-07-03 02:39:13,269]\u001b[0m Trial 36 finished with value: 0.5066666666666666 and parameters: {'optimizer': 'MomentumSGD', 'weight_decay': 5.811592452985674e-08, 'momentum_sgd_lr': 0.08499747212401194}. Best is trial 20 with value: 0.265.\u001b[0m\n",
      "\u001b[32m[I 2021-07-03 02:40:01,539]\u001b[0m Trial 37 finished with value: 0.29166666666666663 and parameters: {'optimizer': 'Adagrad', 'weight_decay': 1.531451128855307e-09, 'adam_lr': 0.02687759940910179}. Best is trial 20 with value: 0.265.\u001b[0m\n",
      "\u001b[32m[I 2021-07-03 02:40:50,020]\u001b[0m Trial 38 finished with value: 0.265 and parameters: {'optimizer': 'Adagrad', 'weight_decay': 3.023651567986714e-10, 'adam_lr': 0.09849594785675997}. Best is trial 20 with value: 0.265.\u001b[0m\n",
      "\u001b[32m[I 2021-07-03 02:41:37,662]\u001b[0m Trial 39 finished with value: 0.3716666666666667 and parameters: {'optimizer': 'Adagrad', 'weight_decay': 3.198054256669215e-10, 'adam_lr': 0.0016413303615316075}. Best is trial 20 with value: 0.265.\u001b[0m\n",
      "\u001b[32m[I 2021-07-03 02:42:25,531]\u001b[0m Trial 40 finished with value: 0.29833333333333334 and parameters: {'optimizer': 'MomentumSGD', 'weight_decay': 5.946275191482919e-08, 'momentum_sgd_lr': 0.0013324198178870659}. Best is trial 20 with value: 0.265.\u001b[0m\n",
      "\u001b[32m[I 2021-07-03 02:43:13,368]\u001b[0m Trial 41 finished with value: 0.28500000000000003 and parameters: {'optimizer': 'Adagrad', 'weight_decay': 7.182378834557735e-10, 'adam_lr': 0.09924520509721223}. Best is trial 20 with value: 0.265.\u001b[0m\n",
      "\u001b[32m[I 2021-07-03 02:44:00,102]\u001b[0m Trial 42 finished with value: 0.29333333333333333 and parameters: {'optimizer': 'Adagrad', 'weight_decay': 5.280884560155075e-09, 'adam_lr': 0.05427178729262707}. Best is trial 20 with value: 0.265.\u001b[0m\n",
      "\u001b[32m[I 2021-07-03 02:44:47,426]\u001b[0m Trial 43 finished with value: 0.5066666666666666 and parameters: {'optimizer': 'Adagrad', 'weight_decay': 9.420638876283444e-09, 'adam_lr': 2.662394109399505e-05}. Best is trial 20 with value: 0.265.\u001b[0m\n",
      "\u001b[32m[I 2021-07-03 02:45:35,603]\u001b[0m Trial 44 finished with value: 0.29166666666666663 and parameters: {'optimizer': 'Adagrad', 'weight_decay': 1.5632194971631635e-07, 'adam_lr': 0.06968707725547159}. Best is trial 20 with value: 0.265.\u001b[0m\n",
      "\u001b[32m[I 2021-07-03 02:46:23,287]\u001b[0m Trial 45 finished with value: 0.2833333333333333 and parameters: {'optimizer': 'Adagrad', 'weight_decay': 4.999343821589797e-10, 'adam_lr': 0.08794506816666685}. Best is trial 20 with value: 0.265.\u001b[0m\n",
      "\u001b[32m[I 2021-07-03 02:47:11,092]\u001b[0m Trial 46 finished with value: 0.2716666666666666 and parameters: {'optimizer': 'Adagrad', 'weight_decay': 1.5752573643303258e-10, 'adam_lr': 0.0970920038160441}. Best is trial 20 with value: 0.265.\u001b[0m\n",
      "\u001b[32m[I 2021-07-03 02:47:57,993]\u001b[0m Trial 47 finished with value: 0.30666666666666664 and parameters: {'optimizer': 'MomentumSGD', 'weight_decay': 1.5015063840996776e-10, 'momentum_sgd_lr': 0.0002741998784919624}. Best is trial 20 with value: 0.265.\u001b[0m\n",
      "\u001b[32m[I 2021-07-03 02:48:45,946]\u001b[0m Trial 48 finished with value: 0.5066666666666666 and parameters: {'optimizer': 'Adagrad', 'weight_decay': 1.0054146193746672e-10, 'adam_lr': 0.0002356917684230466}. Best is trial 20 with value: 0.265.\u001b[0m\n",
      "\u001b[32m[I 2021-07-03 02:49:32,646]\u001b[0m Trial 49 finished with value: 0.29166666666666663 and parameters: {'optimizer': 'Adagrad', 'weight_decay': 1.2833049355414526e-09, 'adam_lr': 0.03550478062041013}. Best is trial 20 with value: 0.265.\u001b[0m\n",
      "\u001b[32m[I 2021-07-03 02:50:19,764]\u001b[0m Trial 50 finished with value: 0.29500000000000004 and parameters: {'optimizer': 'Adagrad', 'weight_decay': 3.0256365488641e-10, 'adam_lr': 0.0201315165594425}. Best is trial 20 with value: 0.265.\u001b[0m\n",
      "\u001b[32m[I 2021-07-03 02:51:07,660]\u001b[0m Trial 51 finished with value: 0.265 and parameters: {'optimizer': 'Adagrad', 'weight_decay': 5.547549742329855e-10, 'adam_lr': 0.089740590901537}. Best is trial 20 with value: 0.265.\u001b[0m\n",
      "\u001b[32m[I 2021-07-03 02:51:55,691]\u001b[0m Trial 52 finished with value: 0.2866666666666666 and parameters: {'optimizer': 'Adagrad', 'weight_decay': 5.289154357693736e-10, 'adam_lr': 0.09867456727147983}. Best is trial 20 with value: 0.265.\u001b[0m\n",
      "\u001b[32m[I 2021-07-03 02:52:42,889]\u001b[0m Trial 53 finished with value: 0.2616666666666667 and parameters: {'optimizer': 'Adagrad', 'weight_decay': 1.949429624363234e-10, 'adam_lr': 0.09937134193981911}. Best is trial 53 with value: 0.2616666666666667.\u001b[0m\n",
      "\u001b[32m[I 2021-07-03 02:53:30,809]\u001b[0m Trial 54 finished with value: 0.29000000000000004 and parameters: {'optimizer': 'Adagrad', 'weight_decay': 1.7877588641441386e-10, 'adam_lr': 0.03735348317509182}. Best is trial 53 with value: 0.2616666666666667.\u001b[0m\n",
      "\u001b[32m[I 2021-07-03 02:54:18,216]\u001b[0m Trial 55 finished with value: 0.2766666666666666 and parameters: {'optimizer': 'Adagrad', 'weight_decay': 2.309457941812367e-10, 'adam_lr': 0.09827949869986839}. Best is trial 53 with value: 0.2616666666666667.\u001b[0m\n",
      "\u001b[32m[I 2021-07-03 02:55:07,259]\u001b[0m Trial 56 finished with value: 0.29166666666666663 and parameters: {'optimizer': 'Adam', 'weight_decay': 9.35424045669468e-10, 'adam_lr': 0.013725041165854905}. Best is trial 53 with value: 0.2616666666666667.\u001b[0m\n",
      "\u001b[32m[I 2021-07-03 02:55:55,044]\u001b[0m Trial 57 finished with value: 0.31833333333333336 and parameters: {'optimizer': 'Adagrad', 'weight_decay': 1.0804273394668898e-10, 'adam_lr': 0.06082325352353612}. Best is trial 53 with value: 0.2616666666666667.\u001b[0m\n",
      "\u001b[32m[I 2021-07-03 02:56:44,492]\u001b[0m Trial 58 finished with value: 0.5066666666666666 and parameters: {'optimizer': 'Adagrad', 'weight_decay': 4.4265562833676294e-10, 'adam_lr': 4.161346711567957e-05}. Best is trial 53 with value: 0.2616666666666667.\u001b[0m\n",
      "\u001b[32m[I 2021-07-03 02:57:32,206]\u001b[0m Trial 59 finished with value: 0.29500000000000004 and parameters: {'optimizer': 'Adagrad', 'weight_decay': 3.248317946774152e-08, 'adam_lr': 0.007665766225763167}. Best is trial 53 with value: 0.2616666666666667.\u001b[0m\n",
      "\u001b[32m[I 2021-07-03 02:58:19,094]\u001b[0m Trial 60 finished with value: 0.28500000000000003 and parameters: {'optimizer': 'Adagrad', 'weight_decay': 5.658524760743201e-09, 'adam_lr': 0.040474988854382755}. Best is trial 53 with value: 0.2616666666666667.\u001b[0m\n",
      "\u001b[32m[I 2021-07-03 02:59:06,235]\u001b[0m Trial 61 finished with value: 0.28 and parameters: {'optimizer': 'Adagrad', 'weight_decay': 2.0159747689180753e-10, 'adam_lr': 0.09644728288654551}. Best is trial 53 with value: 0.2616666666666667.\u001b[0m\n",
      "\u001b[32m[I 2021-07-03 02:59:53,844]\u001b[0m Trial 62 finished with value: 0.30333333333333334 and parameters: {'optimizer': 'Adagrad', 'weight_decay': 2.407823641295314e-10, 'adam_lr': 0.07013955505882885}. Best is trial 53 with value: 0.2616666666666667.\u001b[0m\n",
      "\u001b[32m[I 2021-07-03 03:00:41,706]\u001b[0m Trial 63 finished with value: 0.245 and parameters: {'optimizer': 'Adagrad', 'weight_decay': 1.0751249459703418e-10, 'adam_lr': 0.09928620476809684}. Best is trial 63 with value: 0.245.\u001b[0m\n",
      "\u001b[32m[I 2021-07-03 03:01:28,563]\u001b[0m Trial 64 finished with value: 0.29000000000000004 and parameters: {'optimizer': 'Adagrad', 'weight_decay': 1.1014767716608663e-10, 'adam_lr': 0.029169454029289568}. Best is trial 63 with value: 0.245.\u001b[0m\n",
      "\u001b[32m[I 2021-07-03 03:02:15,413]\u001b[0m Trial 65 finished with value: 0.29166666666666663 and parameters: {'optimizer': 'Adagrad', 'weight_decay': 7.308926925273726e-10, 'adam_lr': 0.0714501554232588}. Best is trial 63 with value: 0.245.\u001b[0m\n",
      "\u001b[32m[I 2021-07-03 03:03:01,140]\u001b[0m Trial 66 finished with value: 0.30333333333333334 and parameters: {'optimizer': 'Adam', 'weight_decay': 1.5851842967591653e-09, 'adam_lr': 0.04531005420247928}. Best is trial 63 with value: 0.245.\u001b[0m\n",
      "\u001b[32m[I 2021-07-03 03:03:46,500]\u001b[0m Trial 67 finished with value: 0.35 and parameters: {'optimizer': 'Adagrad', 'weight_decay': 1.1344647825951387e-06, 'adam_lr': 0.09901869248055027}. Best is trial 63 with value: 0.245.\u001b[0m\n",
      "\u001b[32m[I 2021-07-03 03:04:31,786]\u001b[0m Trial 68 finished with value: 0.29500000000000004 and parameters: {'optimizer': 'Adagrad', 'weight_decay': 4.062993067687247e-10, 'adam_lr': 0.017824310876706443}. Best is trial 63 with value: 0.245.\u001b[0m\n",
      "\u001b[32m[I 2021-07-03 03:05:17,654]\u001b[0m Trial 69 finished with value: 0.31166666666666665 and parameters: {'optimizer': 'MomentumSGD', 'weight_decay': 3.415482799533364e-09, 'momentum_sgd_lr': 0.005743821640610443}. Best is trial 63 with value: 0.245.\u001b[0m\n",
      "\u001b[32m[I 2021-07-03 03:06:04,520]\u001b[0m Trial 70 finished with value: 0.30666666666666664 and parameters: {'optimizer': 'Adagrad', 'weight_decay': 1.6107284858838717e-10, 'adam_lr': 0.0649071951640329}. Best is trial 63 with value: 0.245.\u001b[0m\n",
      "\u001b[32m[I 2021-07-03 03:06:50,835]\u001b[0m Trial 71 finished with value: 0.2516666666666667 and parameters: {'optimizer': 'Adagrad', 'weight_decay': 2.677127115157423e-10, 'adam_lr': 0.09257506583622098}. Best is trial 63 with value: 0.245.\u001b[0m\n",
      "\u001b[32m[I 2021-07-03 03:07:36,977]\u001b[0m Trial 72 finished with value: 0.2783333333333333 and parameters: {'optimizer': 'Adagrad', 'weight_decay': 6.920977109719479e-10, 'adam_lr': 0.04411368338337009}. Best is trial 63 with value: 0.245.\u001b[0m\n",
      "\u001b[32m[I 2021-07-03 03:08:22,888]\u001b[0m Trial 73 finished with value: 0.3383333333333334 and parameters: {'optimizer': 'Adagrad', 'weight_decay': 1.0693787790764568e-10, 'adam_lr': 0.06659934325097323}. Best is trial 63 with value: 0.245.\u001b[0m\n",
      "\u001b[32m[I 2021-07-03 03:09:08,157]\u001b[0m Trial 74 finished with value: 0.29000000000000004 and parameters: {'optimizer': 'Adagrad', 'weight_decay': 3.422888095954417e-10, 'adam_lr': 0.025816309766022498}. Best is trial 63 with value: 0.245.\u001b[0m\n",
      "\u001b[32m[I 2021-07-03 03:09:52,723]\u001b[0m Trial 75 finished with value: 0.29333333333333333 and parameters: {'optimizer': 'Adagrad', 'weight_decay': 1.476213014259426e-09, 'adam_lr': 0.0813741857437618}. Best is trial 63 with value: 0.245.\u001b[0m\n",
      "\u001b[32m[I 2021-07-03 03:10:37,622]\u001b[0m Trial 76 finished with value: 0.30500000000000005 and parameters: {'optimizer': 'Adagrad', 'weight_decay': 1.5163709488389912e-10, 'adam_lr': 0.0028960249505371846}. Best is trial 63 with value: 0.245.\u001b[0m\n",
      "\u001b[32m[I 2021-07-03 03:11:22,761]\u001b[0m Trial 77 finished with value: 0.30000000000000004 and parameters: {'optimizer': 'Adagrad', 'weight_decay': 1.0772854172448156e-09, 'adam_lr': 0.051354501141538875}. Best is trial 63 with value: 0.245.\u001b[0m\n",
      "\u001b[32m[I 2021-07-03 03:12:08,065]\u001b[0m Trial 78 finished with value: 0.29000000000000004 and parameters: {'optimizer': 'Adagrad', 'weight_decay': 5.555639035929907e-10, 'adam_lr': 0.03262959764824452}. Best is trial 63 with value: 0.245.\u001b[0m\n",
      "\u001b[32m[I 2021-07-03 03:12:53,331]\u001b[0m Trial 79 finished with value: 0.29666666666666663 and parameters: {'optimizer': 'Adagrad', 'weight_decay': 2.698750757757902e-10, 'adam_lr': 0.09739820302422963}. Best is trial 63 with value: 0.245.\u001b[0m\n",
      "\u001b[32m[I 2021-07-03 03:13:38,674]\u001b[0m Trial 80 finished with value: 0.29833333333333334 and parameters: {'optimizer': 'Adagrad', 'weight_decay': 1.885879378135182e-09, 'adam_lr': 0.05766867688771921}. Best is trial 63 with value: 0.245.\u001b[0m\n",
      "\u001b[32m[I 2021-07-03 03:14:24,703]\u001b[0m Trial 81 finished with value: 0.28 and parameters: {'optimizer': 'Adagrad', 'weight_decay': 2.24218455816885e-10, 'adam_lr': 0.08025256132881284}. Best is trial 63 with value: 0.245.\u001b[0m\n",
      "\u001b[32m[I 2021-07-03 03:15:11,018]\u001b[0m Trial 82 finished with value: 0.2516666666666667 and parameters: {'optimizer': 'Adagrad', 'weight_decay': 1.3744330172419007e-10, 'adam_lr': 0.09989977094929661}. Best is trial 63 with value: 0.245.\u001b[0m\n",
      "\u001b[32m[I 2021-07-03 03:15:56,952]\u001b[0m Trial 83 finished with value: 0.28833333333333333 and parameters: {'optimizer': 'Adagrad', 'weight_decay': 1.4600735002175405e-10, 'adam_lr': 0.04116795420333888}. Best is trial 63 with value: 0.245.\u001b[0m\n",
      "\u001b[32m[I 2021-07-03 03:16:42,448]\u001b[0m Trial 84 finished with value: 0.505 and parameters: {'optimizer': 'Adagrad', 'weight_decay': 3.8774179757653033e-10, 'adam_lr': 0.0007899541544956162}. Best is trial 63 with value: 0.245.\u001b[0m\n",
      "\u001b[32m[I 2021-07-03 03:17:28,216]\u001b[0m Trial 85 finished with value: 0.32333333333333336 and parameters: {'optimizer': 'Adagrad', 'weight_decay': 9.567787110401618e-10, 'adam_lr': 0.07579939373897464}. Best is trial 63 with value: 0.245.\u001b[0m\n",
      "\u001b[32m[I 2021-07-03 03:18:14,811]\u001b[0m Trial 86 finished with value: 0.2483333333333333 and parameters: {'optimizer': 'Adagrad', 'weight_decay': 1.2851963604139264e-10, 'adam_lr': 0.09904658226281889}. Best is trial 63 with value: 0.245.\u001b[0m\n",
      "\u001b[32m[I 2021-07-03 03:19:01,263]\u001b[0m Trial 87 finished with value: 0.5066666666666666 and parameters: {'optimizer': 'Adam', 'weight_decay': 1.0006853156001957e-10, 'adam_lr': 0.08109575809095701}. Best is trial 63 with value: 0.245.\u001b[0m\n",
      "\u001b[32m[I 2021-07-03 03:19:48,113]\u001b[0m Trial 88 finished with value: 0.32499999999999996 and parameters: {'optimizer': 'Adagrad', 'weight_decay': 1.3786815384370396e-10, 'adam_lr': 0.05836107591029636}. Best is trial 63 with value: 0.245.\u001b[0m\n",
      "\u001b[32m[I 2021-07-03 03:20:34,695]\u001b[0m Trial 89 finished with value: 0.5066666666666666 and parameters: {'optimizer': 'MomentumSGD', 'weight_decay': 5.623565450080499e-10, 'momentum_sgd_lr': 0.08796554875041232}. Best is trial 63 with value: 0.245.\u001b[0m\n",
      "\u001b[32m[I 2021-07-03 03:21:20,835]\u001b[0m Trial 90 finished with value: 0.3466666666666667 and parameters: {'optimizer': 'Adagrad', 'weight_decay': 1.1246389902840594e-07, 'adam_lr': 0.09786948704957558}. Best is trial 63 with value: 0.245.\u001b[0m\n",
      "\u001b[32m[I 2021-07-03 03:22:06,668]\u001b[0m Trial 91 finished with value: 0.5066666666666666 and parameters: {'optimizer': 'Adagrad', 'weight_decay': 2.834685686134866e-10, 'adam_lr': 1.0003438467804991e-05}. Best is trial 63 with value: 0.245.\u001b[0m\n",
      "\u001b[32m[I 2021-07-03 03:22:52,159]\u001b[0m Trial 92 finished with value: 0.28833333333333333 and parameters: {'optimizer': 'Adagrad', 'weight_decay': 2.08508305892378e-10, 'adam_lr': 0.04773384797941744}. Best is trial 63 with value: 0.245.\u001b[0m\n",
      "\u001b[32m[I 2021-07-03 03:23:38,160]\u001b[0m Trial 93 finished with value: 0.2483333333333333 and parameters: {'optimizer': 'Adagrad', 'weight_decay': 4.032601196832778e-10, 'adam_lr': 0.09994056173872841}. Best is trial 63 with value: 0.245.\u001b[0m\n",
      "\u001b[32m[I 2021-07-03 03:24:24,395]\u001b[0m Trial 94 finished with value: 0.32666666666666666 and parameters: {'optimizer': 'Adagrad', 'weight_decay': 4.461646487385321e-10, 'adam_lr': 0.05868238840077891}. Best is trial 63 with value: 0.245.\u001b[0m\n",
      "\u001b[32m[I 2021-07-03 03:25:10,344]\u001b[0m Trial 95 finished with value: 0.26 and parameters: {'optimizer': 'Adagrad', 'weight_decay': 2.377558698885749e-09, 'adam_lr': 0.07872575853763714}. Best is trial 63 with value: 0.245.\u001b[0m\n",
      "\u001b[32m[I 2021-07-03 03:25:56,996]\u001b[0m Trial 96 finished with value: 0.31999999999999995 and parameters: {'optimizer': 'Adagrad', 'weight_decay': 6.0725569243296824e-09, 'adam_lr': 0.07956428881773753}. Best is trial 63 with value: 0.245.\u001b[0m\n",
      "\u001b[32m[I 2021-07-03 03:26:44,004]\u001b[0m Trial 97 finished with value: 0.29833333333333334 and parameters: {'optimizer': 'Adagrad', 'weight_decay': 2.2443873824272733e-09, 'adam_lr': 0.09925219646382442}. Best is trial 63 with value: 0.245.\u001b[0m\n",
      "\u001b[32m[I 2021-07-03 03:27:30,598]\u001b[0m Trial 98 finished with value: 0.28833333333333333 and parameters: {'optimizer': 'Adagrad', 'weight_decay': 8.005624125732746e-10, 'adam_lr': 0.03191559117819619}. Best is trial 63 with value: 0.245.\u001b[0m\n",
      "\u001b[32m[I 2021-07-03 03:28:16,910]\u001b[0m Trial 99 finished with value: 0.30666666666666664 and parameters: {'optimizer': 'Adagrad', 'weight_decay': 2.9601831621851126e-09, 'adam_lr': 0.07099185168861108}. Best is trial 63 with value: 0.245.\u001b[0m\n"
     ]
    }
   ],
   "source": [
    "study = optuna.create_study()\n",
    "study.optimize(objective, n_trials=100)"
   ]
  },
  {
   "cell_type": "code",
   "execution_count": 7,
   "id": "00d1b1c0-1054-48ad-9c26-5f4737544aaf",
   "metadata": {},
   "outputs": [
    {
     "data": {
      "text/plain": [
       "{'optimizer': 'Adam',\n",
       " 'weight_decay': 7.332069279877374e-10,\n",
       " 'adam_lr': 0.017842267811527854}"
      ]
     },
     "execution_count": 7,
     "metadata": {},
     "output_type": "execute_result"
    }
   ],
   "source": [
    "study.best_params  # Get best parameters for the objective function."
   ]
  },
  {
   "cell_type": "code",
   "execution_count": 24,
   "id": "1e7a8e17-7e12-4156-9890-9e6b6ff222d9",
   "metadata": {},
   "outputs": [
    {
     "data": {
      "text/plain": [
       "0.755"
      ]
     },
     "execution_count": 24,
     "metadata": {},
     "output_type": "execute_result"
    }
   ],
   "source": [
    "1 - study.best_value  # Get best objective value."
   ]
  },
  {
   "cell_type": "code",
   "execution_count": null,
   "id": "47f98d6a-c439-4542-a8d0-3a73dcf3e1ca",
   "metadata": {},
   "outputs": [],
   "source": []
  }
 ],
 "metadata": {
  "kernelspec": {
   "display_name": "Python 3",
   "language": "python",
   "name": "python3"
  },
  "language_info": {
   "codemirror_mode": {
    "name": "ipython",
    "version": 3
   },
   "file_extension": ".py",
   "mimetype": "text/x-python",
   "name": "python",
   "nbconvert_exporter": "python",
   "pygments_lexer": "ipython3",
   "version": "3.8.8"
  }
 },
 "nbformat": 4,
 "nbformat_minor": 5
}
