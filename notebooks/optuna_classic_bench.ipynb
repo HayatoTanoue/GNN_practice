{
 "cells": [
  {
   "cell_type": "markdown",
   "id": "4d569013-21ab-463c-ad74-8b958ffbb4ef",
   "metadata": {},
   "source": [
    "# optuna benchmark data"
   ]
  },
  {
   "cell_type": "code",
   "execution_count": 1,
   "id": "47f98d6a-c439-4542-a8d0-3a73dcf3e1ca",
   "metadata": {},
   "outputs": [],
   "source": [
    "import sys\n",
    "sys.path.append(\"../codes\")\n",
    "\n",
    "import numpy as np\n",
    "import pandas as pd\n",
    "import torch\n",
    "import torch.optim as optim\n",
    "import optuna\n",
    "\n",
    "\n",
    "from functools import partial\n",
    "from torch_geometric.data import DataLoader\n",
    "from torch_geometric.datasets import TUDataset\n",
    "\n",
    "from sklearn.model_selection import KFold\n",
    "from torch.utils.data.dataset import Subset\n",
    "\n",
    "from optuna_cv_utils import cv_train, cv_test, make_datasets\n",
    "from set_data_folder import make_train_data\n",
    "\n",
    "from model import GCN\n",
    "from DGCNN import DGCNN_Model"
   ]
  },
  {
   "cell_type": "code",
   "execution_count": 2,
   "id": "4ce917d7-68f2-4f05-8373-5b29d2d2e965",
   "metadata": {},
   "outputs": [],
   "source": [
    "def get_optimizer(trial, model):\n",
    "    # optimizer をAdamとMomentum SGDで探索\n",
    "    optimizer_names = ['Adam', \"Adagrad\"]\n",
    "    optimizer_name = trial.suggest_categorical('optimizer', optimizer_names)\n",
    "\n",
    "    # weight decayの探索\n",
    "    weight_decay = trial.suggest_loguniform('weight_decay', 1e-10, 1e-3)\n",
    "\n",
    "    # optimizer_nameで分岐\n",
    "    if optimizer_name == optimizer_names[0]: \n",
    "        adam_lr = trial.suggest_loguniform('adam_lr', 1e-5, 1e-1)\n",
    "        optimizer = optim.Adam(model.parameters(), lr=adam_lr, weight_decay=weight_decay)\n",
    "    elif optimizer_name == optimizer_names[1]:\n",
    "        adam_lr = trial.suggest_loguniform('adam_lr', 1e-5, 1e-1)\n",
    "        optimizer = optim.Adagrad(model.parameters(), lr=adam_lr, weight_decay=weight_decay)\n",
    "    \n",
    "    return optimizer"
   ]
  },
  {
   "cell_type": "code",
   "execution_count": 3,
   "id": "142803e9-1936-490e-b11b-f2f8992909e1",
   "metadata": {},
   "outputs": [],
   "source": [
    "def objective(data_list, num_epoch, model_name, trial):\n",
    "    device = torch.device(\"cuda:0\" if torch.cuda.is_available() else \"cpu\")\n",
    "    \n",
    "    # 交差検証\n",
    "    fold = KFold(\n",
    "        n_splits=10, shuffle=True, random_state=0\n",
    "    )\n",
    "\n",
    "    valid_accs = []\n",
    "    for fold_idx, (train_idx, valid_idx) in enumerate(fold.split(data_list)):\n",
    "        \n",
    "        if dataset.num_node_features == 0:\n",
    "            num_feature = 1\n",
    "        else:\n",
    "            num_feature = dataset.num_node_features\n",
    "        \n",
    "        # set model\n",
    "        if model_name ==\"GCN\":\n",
    "            model = GCN(hidden_channels=64, num_classes=4, num_node_feature=num_feature).to(device)\n",
    "        elif model_name == \"DGCNN\":\n",
    "            model = DGCNN_Model(num_features=num_feature, num_classes=4).to(device)\n",
    "            \n",
    "        optimizer = get_optimizer(trial, model)\n",
    "        criterion = torch.nn.CrossEntropyLoss()\n",
    "        \n",
    "        # splot data\n",
    "        train_loader = DataLoader(\n",
    "            Subset(data_list, train_idx),\n",
    "            shuffle=True,\n",
    "            batch_size=50,\n",
    "        )\n",
    "        valid_loader = DataLoader(\n",
    "            Subset(data_list, valid_idx),\n",
    "            shuffle=False,\n",
    "            batch_size=50,\n",
    "        )\n",
    "        for epoch_idx in range(num_epoch):\n",
    "            # train\n",
    "            cv_train(model, train_loader, device, criterion, optimizer, model_name)\n",
    "            # valid\n",
    "            valid_acc = cv_test(model, valid_loader, device, model_name)\n",
    "\n",
    "        valid_accs.append(valid_acc)\n",
    "\n",
    "#         print(\"fold {} : {}\".format(fold_idx, valid_acc))\n",
    "  \n",
    "    # 返り値が最小となるようにハイパーパラメータチューニングが実行される\n",
    "    return 1.0 - np.average(valid_accs)"
   ]
  },
  {
   "cell_type": "code",
   "execution_count": 4,
   "id": "b9cf444d-9dd7-4f99-afff-bd62c1373c46",
   "metadata": {},
   "outputs": [],
   "source": [
    "from torch_geometric.utils import to_networkx\n",
    "import networkx as nx\n",
    "from tqdm import tqdm\n",
    "def make_x(data):\n",
    "    G = to_networkx(data)s\n",
    "    new_x = torch.tensor(\n",
    "        [[i] for i in list(dict(nx.degree(G)).values())],\n",
    "        dtype=torch.float,\n",
    "    )\n",
    "    return new_x"
   ]
  },
  {
   "cell_type": "code",
   "execution_count": 5,
   "id": "3160e3e5-ef54-4951-a85e-bb186cc1aac9",
   "metadata": {},
   "outputs": [
    {
     "name": "stderr",
     "output_type": "stream",
     "text": [
      "100%|██████████| 188/188 [00:00<00:00, 21388.48it/s]\n",
      "\u001b[32m[I 2021-08-22 09:57:57,535]\u001b[0m A new study created in memory with name: no-name-ffeac406-5ac9-41f7-85e1-1af52f775c44\u001b[0m\n"
     ]
    },
    {
     "name": "stdout",
     "output_type": "stream",
     "text": [
      "MUTAG\n"
     ]
    },
    {
     "name": "stderr",
     "output_type": "stream",
     "text": [
      "\u001b[32m[I 2021-08-22 09:58:01,032]\u001b[0m Trial 0 finished with value: 0.3040935672514621 and parameters: {'optimizer': 'Adagrad', 'weight_decay': 1.4101547829633218e-06, 'adam_lr': 0.032921900613215614}. Best is trial 0 with value: 0.3040935672514621.\u001b[0m\n",
      "\u001b[32m[I 2021-08-22 09:58:02,911]\u001b[0m Trial 1 finished with value: 0.3345029239766081 and parameters: {'optimizer': 'Adagrad', 'weight_decay': 8.230625771835345e-08, 'adam_lr': 0.001912140444015722}. Best is trial 0 with value: 0.3040935672514621.\u001b[0m\n",
      "\u001b[32m[I 2021-08-22 09:58:04,775]\u001b[0m Trial 2 finished with value: 0.3666666666666666 and parameters: {'optimizer': 'Adagrad', 'weight_decay': 2.0657998284988788e-05, 'adam_lr': 0.06559534161441019}. Best is trial 0 with value: 0.3040935672514621.\u001b[0m\n",
      "\u001b[32m[I 2021-08-22 09:58:06,638]\u001b[0m Trial 3 finished with value: 0.3345029239766081 and parameters: {'optimizer': 'Adagrad', 'weight_decay': 1.117660764126913e-06, 'adam_lr': 5.785561750645676e-05}. Best is trial 0 with value: 0.3040935672514621.\u001b[0m\n",
      "\u001b[32m[I 2021-08-22 09:58:08,502]\u001b[0m Trial 4 finished with value: 0.31959064327485376 and parameters: {'optimizer': 'Adagrad', 'weight_decay': 1.7612244528103406e-09, 'adam_lr': 0.02829160376045101}. Best is trial 0 with value: 0.3040935672514621.\u001b[0m\n",
      "\u001b[32m[I 2021-08-22 09:58:10,361]\u001b[0m Trial 5 finished with value: 0.3345029239766081 and parameters: {'optimizer': 'Adagrad', 'weight_decay': 1.6899745541495392e-09, 'adam_lr': 0.00022654704486145714}. Best is trial 0 with value: 0.3040935672514621.\u001b[0m\n",
      "\u001b[32m[I 2021-08-22 09:58:12,313]\u001b[0m Trial 6 finished with value: 0.3345029239766081 and parameters: {'optimizer': 'Adam', 'weight_decay': 2.821793811442167e-07, 'adam_lr': 1.3195180504357253e-05}. Best is trial 0 with value: 0.3040935672514621.\u001b[0m\n",
      "\u001b[32m[I 2021-08-22 09:58:14,172]\u001b[0m Trial 7 finished with value: 0.3616959064327485 and parameters: {'optimizer': 'Adagrad', 'weight_decay': 4.307065537276362e-05, 'adam_lr': 0.01166048064633414}. Best is trial 0 with value: 0.3040935672514621.\u001b[0m\n",
      "\u001b[32m[I 2021-08-22 09:58:16,025]\u001b[0m Trial 8 finished with value: 0.3345029239766081 and parameters: {'optimizer': 'Adagrad', 'weight_decay': 4.966511345199067e-09, 'adam_lr': 2.3212832327985255e-05}. Best is trial 0 with value: 0.3040935672514621.\u001b[0m\n",
      "\u001b[32m[I 2021-08-22 09:58:17,973]\u001b[0m Trial 9 finished with value: 0.3345029239766081 and parameters: {'optimizer': 'Adam', 'weight_decay': 7.039199802339597e-05, 'adam_lr': 0.001052604265216278}. Best is trial 0 with value: 0.3040935672514621.\u001b[0m\n",
      "\u001b[32m[I 2021-08-22 09:58:17,981]\u001b[0m A new study created in memory with name: no-name-768e7b02-91c2-4196-85af-7ca01cab5073\u001b[0m\n",
      "\u001b[32m[I 2021-08-22 09:58:21,056]\u001b[0m Trial 0 finished with value: 0.3187134502923976 and parameters: {'optimizer': 'Adam', 'weight_decay': 1.4211590259442325e-07, 'adam_lr': 0.00010902919227748543}. Best is trial 0 with value: 0.3187134502923976.\u001b[0m\n",
      "\u001b[32m[I 2021-08-22 09:58:24,170]\u001b[0m Trial 1 finished with value: 0.16023391812865506 and parameters: {'optimizer': 'Adam', 'weight_decay': 1.757868843583593e-08, 'adam_lr': 0.006918004252471158}. Best is trial 1 with value: 0.16023391812865506.\u001b[0m\n",
      "\u001b[32m[I 2021-08-22 09:58:27,219]\u001b[0m Trial 2 finished with value: 0.5821637426900584 and parameters: {'optimizer': 'Adam', 'weight_decay': 1.7757537419939985e-06, 'adam_lr': 1.69532335660449e-05}. Best is trial 1 with value: 0.16023391812865506.\u001b[0m\n",
      "\u001b[32m[I 2021-08-22 09:58:30,199]\u001b[0m Trial 3 finished with value: 0.40292397660818724 and parameters: {'optimizer': 'Adam', 'weight_decay': 2.3398154212523374e-08, 'adam_lr': 6.007025699911407e-05}. Best is trial 1 with value: 0.16023391812865506.\u001b[0m\n",
      "\u001b[32m[I 2021-08-22 09:58:33,037]\u001b[0m Trial 4 finished with value: 0.7991228070175439 and parameters: {'optimizer': 'Adagrad', 'weight_decay': 7.253601675650601e-05, 'adam_lr': 2.4913343890465763e-05}. Best is trial 1 with value: 0.16023391812865506.\u001b[0m\n",
      "\u001b[32m[I 2021-08-22 09:58:36,006]\u001b[0m Trial 5 finished with value: 0.5590643274853802 and parameters: {'optimizer': 'Adam', 'weight_decay': 1.9252845300078893e-10, 'adam_lr': 4.6897367603321496e-05}. Best is trial 1 with value: 0.16023391812865506.\u001b[0m\n",
      "\u001b[32m[I 2021-08-22 09:58:38,816]\u001b[0m Trial 6 finished with value: 0.6251461988304093 and parameters: {'optimizer': 'Adagrad', 'weight_decay': 7.683137242185233e-05, 'adam_lr': 1.1738649893790196e-05}. Best is trial 1 with value: 0.16023391812865506.\u001b[0m\n",
      "\u001b[32m[I 2021-08-22 09:58:41,618]\u001b[0m Trial 7 finished with value: 0.15994152046783638 and parameters: {'optimizer': 'Adagrad', 'weight_decay': 4.2179054570086146e-07, 'adam_lr': 0.02364706843247207}. Best is trial 7 with value: 0.15994152046783638.\u001b[0m\n",
      "\u001b[32m[I 2021-08-22 09:58:44,438]\u001b[0m Trial 8 finished with value: 0.1549707602339181 and parameters: {'optimizer': 'Adagrad', 'weight_decay': 3.6784948076370187e-07, 'adam_lr': 0.016326288266386737}. Best is trial 8 with value: 0.1549707602339181.\u001b[0m\n",
      "\u001b[32m[I 2021-08-22 09:58:47,467]\u001b[0m Trial 9 finished with value: 0.16549707602339192 and parameters: {'optimizer': 'Adam', 'weight_decay': 0.00012236463109808796, 'adam_lr': 0.007303393172034119}. Best is trial 8 with value: 0.1549707602339181.\u001b[0m\n"
     ]
    },
    {
     "name": "stdout",
     "output_type": "stream",
     "text": [
      "REDDIT-BINARY\n"
     ]
    },
    {
     "name": "stderr",
     "output_type": "stream",
     "text": [
      "100%|██████████| 2000/2000 [00:03<00:00, 530.08it/s]\n",
      "\u001b[32m[I 2021-08-22 09:58:55,032]\u001b[0m A new study created in memory with name: no-name-00eb5ac2-103c-49b5-b2c6-202d35468bf9\u001b[0m\n",
      "\u001b[32m[I 2021-08-22 09:59:13,815]\u001b[0m Trial 0 finished with value: 0.3045 and parameters: {'optimizer': 'Adam', 'weight_decay': 1.9579889180806796e-10, 'adam_lr': 0.0008257486513158593}. Best is trial 0 with value: 0.3045.\u001b[0m\n",
      "\u001b[32m[I 2021-08-22 09:59:32,340]\u001b[0m Trial 1 finished with value: 0.3075000000000001 and parameters: {'optimizer': 'Adam', 'weight_decay': 1.8816662289374288e-08, 'adam_lr': 0.07152849958450279}. Best is trial 0 with value: 0.3045.\u001b[0m\n",
      "\u001b[32m[I 2021-08-22 09:59:50,139]\u001b[0m Trial 2 finished with value: 0.3035 and parameters: {'optimizer': 'Adagrad', 'weight_decay': 1.4535660561720567e-09, 'adam_lr': 0.008201568390820502}. Best is trial 2 with value: 0.3035.\u001b[0m\n",
      "\u001b[32m[I 2021-08-22 10:00:08,765]\u001b[0m Trial 3 finished with value: 0.5 and parameters: {'optimizer': 'Adam', 'weight_decay': 1.8006151141949032e-10, 'adam_lr': 4.996610286532846e-05}. Best is trial 2 with value: 0.3035.\u001b[0m\n",
      "\u001b[32m[I 2021-08-22 10:00:26,758]\u001b[0m Trial 4 finished with value: 0.5 and parameters: {'optimizer': 'Adagrad', 'weight_decay': 8.380007137681661e-10, 'adam_lr': 0.0003030581974921117}. Best is trial 2 with value: 0.3035.\u001b[0m\n",
      "\u001b[32m[I 2021-08-22 10:00:45,066]\u001b[0m Trial 5 finished with value: 0.3045 and parameters: {'optimizer': 'Adagrad', 'weight_decay': 1.7107109763620965e-10, 'adam_lr': 0.004759024910465183}. Best is trial 2 with value: 0.3035.\u001b[0m\n",
      "\u001b[32m[I 2021-08-22 10:01:03,852]\u001b[0m Trial 6 finished with value: 0.29600000000000004 and parameters: {'optimizer': 'Adam', 'weight_decay': 9.418362261042739e-10, 'adam_lr': 0.006200866278112672}. Best is trial 6 with value: 0.29600000000000004.\u001b[0m\n",
      "\u001b[32m[I 2021-08-22 10:01:21,661]\u001b[0m Trial 7 finished with value: 0.30499999999999994 and parameters: {'optimizer': 'Adagrad', 'weight_decay': 8.210375154897518e-10, 'adam_lr': 0.009110566526241062}. Best is trial 6 with value: 0.29600000000000004.\u001b[0m\n",
      "\u001b[32m[I 2021-08-22 10:01:39,501]\u001b[0m Trial 8 finished with value: 0.5 and parameters: {'optimizer': 'Adagrad', 'weight_decay': 8.656737590989794e-10, 'adam_lr': 0.00011783075377449284}. Best is trial 6 with value: 0.29600000000000004.\u001b[0m\n",
      "\u001b[32m[I 2021-08-22 10:01:58,097]\u001b[0m Trial 9 finished with value: 0.5 and parameters: {'optimizer': 'Adam', 'weight_decay': 3.8723826142397986e-07, 'adam_lr': 1.6971995907558434e-05}. Best is trial 6 with value: 0.29600000000000004.\u001b[0m\n",
      "\u001b[32m[I 2021-08-22 10:01:58,103]\u001b[0m A new study created in memory with name: no-name-9e4764d6-2f53-45c5-95f2-ebee79b6f324\u001b[0m\n",
      "\u001b[32m[I 2021-08-22 10:02:33,513]\u001b[0m Trial 0 finished with value: 0.3045 and parameters: {'optimizer': 'Adam', 'weight_decay': 1.8137676769656906e-05, 'adam_lr': 0.0025264667017277846}. Best is trial 0 with value: 0.3045.\u001b[0m\n",
      "\u001b[32m[I 2021-08-22 10:03:09,130]\u001b[0m Trial 1 finished with value: 0.4575 and parameters: {'optimizer': 'Adam', 'weight_decay': 1.753049513446176e-08, 'adam_lr': 1.1041572532180917e-05}. Best is trial 0 with value: 0.3045.\u001b[0m\n",
      "\u001b[32m[I 2021-08-22 10:03:44,846]\u001b[0m Trial 2 finished with value: 0.29699999999999993 and parameters: {'optimizer': 'Adam', 'weight_decay': 3.852073047003212e-08, 'adam_lr': 0.0023000587638057957}. Best is trial 2 with value: 0.29699999999999993.\u001b[0m\n",
      "\u001b[32m[I 2021-08-22 10:04:18,624]\u001b[0m Trial 3 finished with value: 0.489 and parameters: {'optimizer': 'Adagrad', 'weight_decay': 0.0007267522392449595, 'adam_lr': 0.00013060912985470596}. Best is trial 2 with value: 0.29699999999999993.\u001b[0m\n",
      "\u001b[32m[I 2021-08-22 10:04:52,509]\u001b[0m Trial 4 finished with value: 0.599 and parameters: {'optimizer': 'Adagrad', 'weight_decay': 1.8270006490085908e-06, 'adam_lr': 1.3387004130527245e-05}. Best is trial 2 with value: 0.29699999999999993.\u001b[0m\n",
      "\u001b[32m[I 2021-08-22 10:05:26,026]\u001b[0m Trial 5 finished with value: 0.4949999999999999 and parameters: {'optimizer': 'Adagrad', 'weight_decay': 5.622483944576338e-10, 'adam_lr': 2.5773037049601555e-05}. Best is trial 2 with value: 0.29699999999999993.\u001b[0m\n",
      "\u001b[32m[I 2021-08-22 10:06:01,502]\u001b[0m Trial 6 finished with value: 0.4959999999999999 and parameters: {'optimizer': 'Adam', 'weight_decay': 1.3028585434168774e-09, 'adam_lr': 0.059499307211143916}. Best is trial 2 with value: 0.29699999999999993.\u001b[0m\n",
      "\u001b[32m[I 2021-08-22 10:06:35,549]\u001b[0m Trial 7 finished with value: 0.2815000000000001 and parameters: {'optimizer': 'Adagrad', 'weight_decay': 2.6645638748050635e-08, 'adam_lr': 0.0016595686677013134}. Best is trial 7 with value: 0.2815000000000001.\u001b[0m\n",
      "\u001b[32m[I 2021-08-22 10:07:10,801]\u001b[0m Trial 8 finished with value: 0.3390000000000001 and parameters: {'optimizer': 'Adam', 'weight_decay': 1.3783655387402847e-08, 'adam_lr': 0.0032222956840659476}. Best is trial 7 with value: 0.2815000000000001.\u001b[0m\n",
      "\u001b[32m[I 2021-08-22 10:07:46,399]\u001b[0m Trial 9 finished with value: 0.504 and parameters: {'optimizer': 'Adam', 'weight_decay': 0.000292871984788713, 'adam_lr': 0.03994100079131575}. Best is trial 7 with value: 0.2815000000000001.\u001b[0m\n",
      "100%|██████████| 1178/1178 [00:00<00:00, 22598.08it/s]\n",
      "\u001b[32m[I 2021-08-22 10:07:46,517]\u001b[0m A new study created in memory with name: no-name-29361883-3a28-463e-81a4-d9764f76677f\u001b[0m\n"
     ]
    },
    {
     "name": "stdout",
     "output_type": "stream",
     "text": [
      "DD\n"
     ]
    },
    {
     "name": "stderr",
     "output_type": "stream",
     "text": [
      "\u001b[32m[I 2021-08-22 10:08:01,002]\u001b[0m Trial 0 finished with value: 0.41336375488917876 and parameters: {'optimizer': 'Adam', 'weight_decay': 0.0004135882745992727, 'adam_lr': 0.0008790871698581789}. Best is trial 0 with value: 0.41336375488917876.\u001b[0m\n",
      "\u001b[32m[I 2021-08-22 10:08:14,840]\u001b[0m Trial 1 finished with value: 0.41336375488917876 and parameters: {'optimizer': 'Adagrad', 'weight_decay': 1.222179055025283e-06, 'adam_lr': 0.0005987681562132393}. Best is trial 0 with value: 0.41336375488917876.\u001b[0m\n",
      "\u001b[32m[I 2021-08-22 10:08:29,156]\u001b[0m Trial 2 finished with value: 0.399789946400116 and parameters: {'optimizer': 'Adam', 'weight_decay': 3.8748090704948254e-05, 'adam_lr': 0.0018281540020360044}. Best is trial 2 with value: 0.399789946400116.\u001b[0m\n",
      "\u001b[32m[I 2021-08-22 10:08:43,081]\u001b[0m Trial 3 finished with value: 0.40404172099087354 and parameters: {'optimizer': 'Adagrad', 'weight_decay': 1.4873013427080057e-09, 'adam_lr': 0.011678867219468151}. Best is trial 2 with value: 0.399789946400116.\u001b[0m\n",
      "\u001b[32m[I 2021-08-22 10:08:57,547]\u001b[0m Trial 4 finished with value: 0.36494277850210044 and parameters: {'optimizer': 'Adam', 'weight_decay': 2.0056993999995235e-07, 'adam_lr': 0.003125040299280825}. Best is trial 4 with value: 0.36494277850210044.\u001b[0m\n",
      "\u001b[32m[I 2021-08-22 10:09:11,504]\u001b[0m Trial 5 finished with value: 0.3471751412429378 and parameters: {'optimizer': 'Adagrad', 'weight_decay': 1.6502898602350017e-10, 'adam_lr': 0.052698258563709216}. Best is trial 5 with value: 0.3471751412429378.\u001b[0m\n",
      "\u001b[32m[I 2021-08-22 10:09:25,920]\u001b[0m Trial 6 finished with value: 0.4090902506156744 and parameters: {'optimizer': 'Adam', 'weight_decay': 9.55132727296825e-07, 'adam_lr': 0.03834399070813957}. Best is trial 5 with value: 0.3471751412429378.\u001b[0m\n",
      "\u001b[32m[I 2021-08-22 10:09:40,201]\u001b[0m Trial 7 finished with value: 0.4116688396349414 and parameters: {'optimizer': 'Adam', 'weight_decay': 1.010114661567054e-08, 'adam_lr': 0.0011769251363135834}. Best is trial 5 with value: 0.3471751412429378.\u001b[0m\n",
      "\u001b[32m[I 2021-08-22 10:09:54,693]\u001b[0m Trial 8 finished with value: 0.41336375488917876 and parameters: {'optimizer': 'Adam', 'weight_decay': 6.530464128718609e-09, 'adam_lr': 0.0006510423826169053}. Best is trial 5 with value: 0.3471751412429378.\u001b[0m\n",
      "\u001b[32m[I 2021-08-22 10:10:08,484]\u001b[0m Trial 9 finished with value: 0.41336375488917876 and parameters: {'optimizer': 'Adagrad', 'weight_decay': 9.735734467690756e-05, 'adam_lr': 0.0012007363497306015}. Best is trial 5 with value: 0.3471751412429378.\u001b[0m\n",
      "\u001b[32m[I 2021-08-22 10:10:08,491]\u001b[0m A new study created in memory with name: no-name-a6aad710-571c-4a12-895d-c2dde1443baf\u001b[0m\n",
      "\u001b[32m[I 2021-08-22 10:10:29,751]\u001b[0m Trial 0 finished with value: 0.5613428943937417 and parameters: {'optimizer': 'Adagrad', 'weight_decay': 1.660476784694607e-09, 'adam_lr': 7.675533525097252e-05}. Best is trial 0 with value: 0.5613428943937417.\u001b[0m\n",
      "\u001b[32m[I 2021-08-22 10:10:52,110]\u001b[0m Trial 1 finished with value: 0.41336375488917876 and parameters: {'optimizer': 'Adam', 'weight_decay': 1.6243042474202013e-10, 'adam_lr': 0.00023787525218606142}. Best is trial 1 with value: 0.41336375488917876.\u001b[0m\n",
      "\u001b[32m[I 2021-08-22 10:11:13,275]\u001b[0m Trial 2 finished with value: 0.2827176589888454 and parameters: {'optimizer': 'Adagrad', 'weight_decay': 5.048440881350851e-09, 'adam_lr': 0.022760496922999578}. Best is trial 2 with value: 0.2827176589888454.\u001b[0m\n",
      "\u001b[32m[I 2021-08-22 10:11:34,687]\u001b[0m Trial 3 finished with value: 0.4218383311603653 and parameters: {'optimizer': 'Adagrad', 'weight_decay': 9.161266334206837e-07, 'adam_lr': 0.00012756986055681443}. Best is trial 2 with value: 0.2827176589888454.\u001b[0m\n",
      "\u001b[32m[I 2021-08-22 10:11:56,853]\u001b[0m Trial 4 finished with value: 0.2784513979429233 and parameters: {'optimizer': 'Adam', 'weight_decay': 1.8184524855397038e-09, 'adam_lr': 0.003123949630373157}. Best is trial 4 with value: 0.2784513979429233.\u001b[0m\n",
      "\u001b[32m[I 2021-08-22 10:12:17,997]\u001b[0m Trial 5 finished with value: 0.4584745762711865 and parameters: {'optimizer': 'Adagrad', 'weight_decay': 5.680411333098871e-07, 'adam_lr': 0.00010292381542178542}. Best is trial 4 with value: 0.2784513979429233.\u001b[0m\n",
      "\u001b[32m[I 2021-08-22 10:12:40,299]\u001b[0m Trial 6 finished with value: 0.41336375488917876 and parameters: {'optimizer': 'Adam', 'weight_decay': 0.00012363311376000427, 'adam_lr': 0.00024752091165665467}. Best is trial 4 with value: 0.2784513979429233.\u001b[0m\n",
      "\u001b[32m[I 2021-08-22 10:13:01,624]\u001b[0m Trial 7 finished with value: 0.41336375488917876 and parameters: {'optimizer': 'Adagrad', 'weight_decay': 1.3986467823138613e-08, 'adam_lr': 0.00032519287191412865}. Best is trial 4 with value: 0.2784513979429233.\u001b[0m\n",
      "\u001b[32m[I 2021-08-22 10:13:23,966]\u001b[0m Trial 8 finished with value: 0.2589091699261191 and parameters: {'optimizer': 'Adam', 'weight_decay': 8.478398456056119e-10, 'adam_lr': 0.004553376261271364}. Best is trial 8 with value: 0.2589091699261191.\u001b[0m\n",
      "\u001b[32m[I 2021-08-22 10:13:45,290]\u001b[0m Trial 9 finished with value: 0.4203389830508474 and parameters: {'optimizer': 'Adagrad', 'weight_decay': 7.882958222176627e-10, 'adam_lr': 0.06361846724902433}. Best is trial 8 with value: 0.2589091699261191.\u001b[0m\n"
     ]
    },
    {
     "name": "stdout",
     "output_type": "stream",
     "text": [
      "COLLAB\n"
     ]
    },
    {
     "name": "stderr",
     "output_type": "stream",
     "text": [
      "100%|██████████| 5000/5000 [00:37<00:00, 132.33it/s]\n",
      "\u001b[32m[I 2021-08-22 10:15:00,765]\u001b[0m A new study created in memory with name: no-name-3d20100e-d40e-49c4-a5e9-43e32eaa7cf0\u001b[0m\n",
      "\u001b[32m[I 2021-08-22 10:16:03,980]\u001b[0m Trial 0 finished with value: 0.32219999999999993 and parameters: {'optimizer': 'Adagrad', 'weight_decay': 9.669829723306696e-09, 'adam_lr': 0.011800591304925293}. Best is trial 0 with value: 0.32219999999999993.\u001b[0m\n",
      "\u001b[32m[I 2021-08-22 10:17:06,947]\u001b[0m Trial 1 finished with value: 0.675 and parameters: {'optimizer': 'Adagrad', 'weight_decay': 6.611975978942618e-06, 'adam_lr': 0.000333221659513898}. Best is trial 0 with value: 0.32219999999999993.\u001b[0m\n",
      "\u001b[32m[I 2021-08-22 10:18:12,107]\u001b[0m Trial 2 finished with value: 0.6748000000000001 and parameters: {'optimizer': 'Adam', 'weight_decay': 4.430161193521281e-06, 'adam_lr': 2.254802593760215e-05}. Best is trial 0 with value: 0.32219999999999993.\u001b[0m\n",
      "\u001b[32m[I 2021-08-22 10:19:15,366]\u001b[0m Trial 3 finished with value: 0.3196000000000001 and parameters: {'optimizer': 'Adagrad', 'weight_decay': 0.00043069006157927983, 'adam_lr': 0.015175269652084197}. Best is trial 3 with value: 0.3196000000000001.\u001b[0m\n",
      "\u001b[32m[I 2021-08-22 10:20:18,962]\u001b[0m Trial 4 finished with value: 0.662 and parameters: {'optimizer': 'Adagrad', 'weight_decay': 1.996614852170406e-08, 'adam_lr': 0.0005225799804810693}. Best is trial 3 with value: 0.3196000000000001.\u001b[0m\n",
      "\u001b[32m[I 2021-08-22 10:21:22,566]\u001b[0m Trial 5 finished with value: 0.675 and parameters: {'optimizer': 'Adagrad', 'weight_decay': 1.5639340185866198e-06, 'adam_lr': 0.00016233605884341312}. Best is trial 3 with value: 0.3196000000000001.\u001b[0m\n",
      "\u001b[32m[I 2021-08-22 10:22:27,640]\u001b[0m Trial 6 finished with value: 0.33940000000000003 and parameters: {'optimizer': 'Adam', 'weight_decay': 0.0003626831455416183, 'adam_lr': 0.021442720429818193}. Best is trial 3 with value: 0.3196000000000001.\u001b[0m\n",
      "\u001b[32m[I 2021-08-22 10:23:32,755]\u001b[0m Trial 7 finished with value: 0.655 and parameters: {'optimizer': 'Adam', 'weight_decay': 0.00028021568222883067, 'adam_lr': 3.633151796761896e-05}. Best is trial 3 with value: 0.3196000000000001.\u001b[0m\n",
      "\u001b[32m[I 2021-08-22 10:24:38,356]\u001b[0m Trial 8 finished with value: 0.34340000000000004 and parameters: {'optimizer': 'Adam', 'weight_decay': 1.825384028451483e-10, 'adam_lr': 0.038972320915731384}. Best is trial 3 with value: 0.3196000000000001.\u001b[0m\n",
      "\u001b[32m[I 2021-08-22 10:25:41,556]\u001b[0m Trial 9 finished with value: 0.675 and parameters: {'optimizer': 'Adagrad', 'weight_decay': 8.737353471002529e-05, 'adam_lr': 8.914595603293609e-05}. Best is trial 3 with value: 0.3196000000000001.\u001b[0m\n",
      "\u001b[32m[I 2021-08-22 10:25:41,563]\u001b[0m A new study created in memory with name: no-name-807f905a-9fa5-4338-b33f-72f0fa13684d\u001b[0m\n",
      "\u001b[32m[I 2021-08-22 10:27:05,729]\u001b[0m Trial 0 finished with value: 0.3286 and parameters: {'optimizer': 'Adam', 'weight_decay': 1.4522133583796658e-06, 'adam_lr': 0.001781589472930753}. Best is trial 0 with value: 0.3286.\u001b[0m\n",
      "\u001b[32m[I 2021-08-22 10:28:25,657]\u001b[0m Trial 1 finished with value: 0.3214 and parameters: {'optimizer': 'Adagrad', 'weight_decay': 0.0003131101446175474, 'adam_lr': 0.011532427701625091}. Best is trial 1 with value: 0.3214.\u001b[0m\n",
      "\u001b[32m[I 2021-08-22 10:29:50,305]\u001b[0m Trial 2 finished with value: 0.31799999999999995 and parameters: {'optimizer': 'Adam', 'weight_decay': 0.0002649616757211716, 'adam_lr': 0.001235730916255593}. Best is trial 2 with value: 0.31799999999999995.\u001b[0m\n",
      "\u001b[32m[I 2021-08-22 10:31:15,010]\u001b[0m Trial 3 finished with value: 0.37140000000000006 and parameters: {'optimizer': 'Adam', 'weight_decay': 1.4851396511964398e-05, 'adam_lr': 0.006619492861088365}. Best is trial 2 with value: 0.31799999999999995.\u001b[0m\n",
      "\u001b[32m[I 2021-08-22 10:32:35,514]\u001b[0m Trial 4 finished with value: 0.4970000000000001 and parameters: {'optimizer': 'Adagrad', 'weight_decay': 1.2026197086028522e-05, 'adam_lr': 4.826903650446529e-05}. Best is trial 2 with value: 0.31799999999999995.\u001b[0m\n",
      "\u001b[32m[I 2021-08-22 10:33:56,151]\u001b[0m Trial 5 finished with value: 0.5876 and parameters: {'optimizer': 'Adagrad', 'weight_decay': 1.185028095362976e-09, 'adam_lr': 1.2923127855557052e-05}. Best is trial 2 with value: 0.31799999999999995.\u001b[0m\n",
      "\u001b[32m[I 2021-08-22 10:35:17,231]\u001b[0m Trial 6 finished with value: 0.33240000000000003 and parameters: {'optimizer': 'Adagrad', 'weight_decay': 1.258297951705775e-06, 'adam_lr': 0.0018447800605718389}. Best is trial 2 with value: 0.31799999999999995.\u001b[0m\n",
      "\u001b[32m[I 2021-08-22 10:36:41,894]\u001b[0m Trial 7 finished with value: 0.3233999999999999 and parameters: {'optimizer': 'Adam', 'weight_decay': 1.7403944782845986e-06, 'adam_lr': 0.0018984735169016356}. Best is trial 2 with value: 0.31799999999999995.\u001b[0m\n",
      "\u001b[32m[I 2021-08-22 10:38:06,451]\u001b[0m Trial 8 finished with value: 0.48 and parameters: {'optimizer': 'Adam', 'weight_decay': 6.438813580804117e-06, 'adam_lr': 0.051798615290261}. Best is trial 2 with value: 0.31799999999999995.\u001b[0m\n",
      "\u001b[32m[I 2021-08-22 10:39:26,929]\u001b[0m Trial 9 finished with value: 0.48 and parameters: {'optimizer': 'Adagrad', 'weight_decay': 5.603394700412464e-08, 'adam_lr': 0.00010299164109926508}. Best is trial 2 with value: 0.31799999999999995.\u001b[0m\n"
     ]
    }
   ],
   "source": [
    "df = pd.DataFrame(columns=[\"model\", \"dataset\", \"optimizer\", \"weight_decay\", \"adam_lr\", \"best_acc\"])\n",
    "\n",
    "cnt = 0\n",
    "for dataset_name in [\"MUTAG\", \"REDDIT-BINARY\", \"DD\", \"COLLAB\"]:\n",
    "    print(dataset_name)\n",
    "    dataset = TUDataset(root='data/TUDataset', name=dataset_name)\n",
    "    \n",
    "    torch.manual_seed(12345)\n",
    "    dataset = dataset.shuffle()\n",
    "    \n",
    "    # node attributeがない場合 degreeをnode attribute として使用\n",
    "    if dataset[0].x is None:\n",
    "        for d in dataset:\n",
    "            d.x = make_x(d)\n",
    "    \n",
    "    datalist = []\n",
    "    for d in tqdm(dataset):\n",
    "        if d.x is None:\n",
    "            d.x = make_x(d)\n",
    "        datalist.append(d)\n",
    "    \n",
    "    for name in [\"GCN\", \"DGCNN\"]:\n",
    "            # tuning\n",
    "            study = optuna.create_study()\n",
    "            f = partial(objective, datalist, 10, name)\n",
    "            study.optimize(f, n_trials=10)\n",
    "            study.trials_dataframe().to_csv(f\"./paper_result/optuna/{name}_{dataset_name}.csv\")\n",
    "\n",
    "            # save best prams, best acc\n",
    "            params = study.best_params\n",
    "            params[\"model\"] = name\n",
    "            params[\"dataset\"] = dataset_name\n",
    "            params[\"best_acc\"] = 1 - study.best_value\n",
    "            df = df.append(pd.Series(params, name=cnt))\n",
    "            cnt += 1\n",
    "\n",
    "df.to_csv(\"paper_result/tuning_benchmark.csv\")"
   ]
  },
  {
   "cell_type": "code",
   "execution_count": 6,
   "id": "8299399a-467d-44a2-8c57-86741360b8c0",
   "metadata": {},
   "outputs": [
    {
     "data": {
      "text/html": [
       "<div>\n",
       "<style scoped>\n",
       "    .dataframe tbody tr th:only-of-type {\n",
       "        vertical-align: middle;\n",
       "    }\n",
       "\n",
       "    .dataframe tbody tr th {\n",
       "        vertical-align: top;\n",
       "    }\n",
       "\n",
       "    .dataframe thead th {\n",
       "        text-align: right;\n",
       "    }\n",
       "</style>\n",
       "<table border=\"1\" class=\"dataframe\">\n",
       "  <thead>\n",
       "    <tr style=\"text-align: right;\">\n",
       "      <th></th>\n",
       "      <th>model</th>\n",
       "      <th>dataset</th>\n",
       "      <th>optimizer</th>\n",
       "      <th>weight_decay</th>\n",
       "      <th>adam_lr</th>\n",
       "      <th>best_acc</th>\n",
       "    </tr>\n",
       "  </thead>\n",
       "  <tbody>\n",
       "    <tr>\n",
       "      <th>0</th>\n",
       "      <td>GCN</td>\n",
       "      <td>MUTAG</td>\n",
       "      <td>Adam</td>\n",
       "      <td>1.216473e-06</td>\n",
       "      <td>0.003742</td>\n",
       "      <td>0.665497</td>\n",
       "    </tr>\n",
       "    <tr>\n",
       "      <th>1</th>\n",
       "      <td>DGCNN</td>\n",
       "      <td>MUTAG</td>\n",
       "      <td>Adagrad</td>\n",
       "      <td>2.166758e-10</td>\n",
       "      <td>0.008390</td>\n",
       "      <td>0.855848</td>\n",
       "    </tr>\n",
       "  </tbody>\n",
       "</table>\n",
       "</div>"
      ],
      "text/plain": [
       "   model dataset optimizer  weight_decay   adam_lr  best_acc\n",
       "0    GCN   MUTAG      Adam  1.216473e-06  0.003742  0.665497\n",
       "1  DGCNN   MUTAG   Adagrad  2.166758e-10  0.008390  0.855848"
      ]
     },
     "execution_count": 6,
     "metadata": {},
     "output_type": "execute_result"
    }
   ],
   "source": [
    "df"
   ]
  },
  {
   "cell_type": "code",
   "execution_count": null,
   "id": "237972e7-73d8-428c-b075-60fa66d0bbf5",
   "metadata": {},
   "outputs": [],
   "source": []
  }
 ],
 "metadata": {
  "kernelspec": {
   "display_name": "Python 3",
   "language": "python",
   "name": "python3"
  },
  "language_info": {
   "codemirror_mode": {
    "name": "ipython",
    "version": 3
   },
   "file_extension": ".py",
   "mimetype": "text/x-python",
   "name": "python",
   "nbconvert_exporter": "python",
   "pygments_lexer": "ipython3",
   "version": "3.8.8"
  }
 },
 "nbformat": 4,
 "nbformat_minor": 5
}
