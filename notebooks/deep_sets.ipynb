{
 "cells": [
  {
   "cell_type": "code",
   "execution_count": 74,
   "id": "4c4988f5-3d0f-4e0c-b1fc-35504dc8aa6b",
   "metadata": {},
   "outputs": [],
   "source": [
    "import torch\n",
    "import torch.nn.functional as F\n",
    "from torch.nn import Linear\n",
    "from torch_geometric.nn import global_add_pool\n",
    "\n",
    "\n",
    "class DeepMultisets(torch.nn.Module):\n",
    "\n",
    "    def __init__(self, dim_features, dim_target):\n",
    "        super(DeepMultisets, self).__init__()\n",
    "\n",
    "        hidden_units = 32\n",
    "\n",
    "        self.fc_vertex = Linear(dim_features, hidden_units)\n",
    "        self.fc_global1 = Linear(hidden_units, hidden_units)\n",
    "        self.fc_global2 = Linear(hidden_units, dim_target)\n",
    "\n",
    "    def forward(self, data):\n",
    "        x, batch = data.x, data.batch\n",
    "\n",
    "        x = F.relu(self.fc_vertex(x))\n",
    "        x = global_add_pool(x, batch)  # sums all vertex embeddings belonging to the same graph!\n",
    "        x = F.relu(self.fc_global1(x))\n",
    "        x = self.fc_global2(x)\n",
    "        return x"
   ]
  },
  {
   "cell_type": "code",
   "execution_count": 69,
   "id": "22f23683-d107-42dd-919f-946c71be1114",
   "metadata": {},
   "outputs": [],
   "source": [
    "class DeepMultisets(torch.nn.Module):\n",
    "    def __init__(self, dim_features, dim_target, batch):\n",
    "        super(DeepMultisets, self).__init__()\n",
    "\n",
    "        hidden_units = 32\n",
    "        \n",
    "        self.batch = batch\n",
    "        \n",
    "        self.fc_vertex = Linear(dim_features, hidden_units)\n",
    "        self.fc_global1 = Linear(hidden_units, hidden_units)\n",
    "        self.fc_global2 = Linear(hidden_units, dim_target)\n",
    "\n",
    "    def forward(self, x):\n",
    "        x, batch = x, self.batch\n",
    "\n",
    "        x = F.relu(self.fc_vertex(x))\n",
    "        x = global_add_pool(x, batch)  # sums all vertex embeddings belonging to the same graph!\n",
    "        x = F.relu(self.fc_global1(x))\n",
    "        x = self.fc_global2(x)\n",
    "        return x"
   ]
  },
  {
   "cell_type": "code",
   "execution_count": 70,
   "id": "c73640bf-7db6-402b-92e7-73ac8e239f6a",
   "metadata": {},
   "outputs": [],
   "source": [
    "model = DeepMultisets(dim_features=1, dim_target=4, batch=torch.tensor([0,0,0]))"
   ]
  },
  {
   "cell_type": "code",
   "execution_count": 71,
   "id": "a896151b-38b2-41d7-a9e8-065962b2bb9b",
   "metadata": {},
   "outputs": [
    {
     "data": {
      "text/plain": [
       "torch.Size([3, 1])"
      ]
     },
     "execution_count": 71,
     "metadata": {},
     "output_type": "execute_result"
    }
   ],
   "source": [
    "torch.tensor([[1.],[2.],[3.]]).float().shape"
   ]
  },
  {
   "cell_type": "code",
   "execution_count": 72,
   "id": "e3d2f00a-ca41-433a-9366-9191139b7938",
   "metadata": {},
   "outputs": [
    {
     "data": {
      "text/plain": [
       "tensor([[-0.1550, -0.9311,  0.1201, -0.2438]], grad_fn=<AddmmBackward>)"
      ]
     },
     "execution_count": 72,
     "metadata": {},
     "output_type": "execute_result"
    }
   ],
   "source": [
    "model(torch.tensor([[1.],[2.],[3.]]).float())"
   ]
  },
  {
   "cell_type": "code",
   "execution_count": 73,
   "id": "49b49d6c-6df7-4599-96ec-a9785dc01327",
   "metadata": {},
   "outputs": [
    {
     "data": {
      "text/plain": [
       "tensor([[-0.1550, -0.9311,  0.1201, -0.2438]], grad_fn=<AddmmBackward>)"
      ]
     },
     "execution_count": 73,
     "metadata": {},
     "output_type": "execute_result"
    }
   ],
   "source": [
    "model(torch.tensor([[2.],[1.],[3.]]).float())"
   ]
  },
  {
   "cell_type": "code",
   "execution_count": 30,
   "id": "ee5575f3-afe1-4442-a1c5-a5db756d427d",
   "metadata": {},
   "outputs": [
    {
     "name": "stdout",
     "output_type": "stream",
     "text": [
      "COLLAB\n"
     ]
    }
   ],
   "source": [
    "from torch_geometric.datasets import TUDataset\n",
    "from torch_geometric.data import Data, DataLoader\n",
    "\n",
    "from sklearn.model_selection import KFold\n",
    "from torch.utils.data.dataset import Subset\n",
    "from torch_geometric.utils import to_networkx\n",
    "\n",
    "import networkx as nx\n",
    "\n",
    "\n",
    "for name in [\"COLLAB\"]:\n",
    "    print(name)\n",
    "    dataset = TUDataset(root='data/TUDataset', name=name)"
   ]
  },
  {
   "cell_type": "code",
   "execution_count": 17,
   "id": "239c216e-b486-4573-84b8-3dac4ca80186",
   "metadata": {},
   "outputs": [],
   "source": [
    "fold = KFold(\n",
    "    n_splits=10, shuffle=True, random_state=0\n",
    ")"
   ]
  },
  {
   "cell_type": "code",
   "execution_count": 18,
   "id": "ce71a5ad-aa0a-4a5d-af33-543b61ecd0a4",
   "metadata": {},
   "outputs": [],
   "source": [
    "for fold_idx, (train_idx, valid_idx) in enumerate(fold.split(dataset, dataset.data.y)):\n",
    "        train_loader = DataLoader(\n",
    "            dataset[[i for i in train_idx]],\n",
    "            shuffle=True,\n",
    "            batch_size=32,\n",
    "        )\n",
    "        valid_loader = DataLoader(\n",
    "            dataset[[i for i in valid_idx]],\n",
    "            shuffle=False,\n",
    "            batch_size=32,\n",
    "        )\n",
    "        break"
   ]
  },
  {
   "cell_type": "code",
   "execution_count": 31,
   "id": "29cd044e-2985-4d92-8916-8cd919d39e8f",
   "metadata": {},
   "outputs": [],
   "source": [
    "def make_x(data):\n",
    "    for num in range(len(data.y)):\n",
    "        G = to_networkx(data[num])\n",
    "        new_x = torch.tensor(\n",
    "                [[i] for i in list(dict(nx.degree(G)).values())],\n",
    "                dtype=torch.float,\n",
    "            )\n",
    "        if num == 0:\n",
    "            x = new_x\n",
    "        else:\n",
    "            x = torch.cat([x, new_x])\n",
    "    return x"
   ]
  },
  {
   "cell_type": "code",
   "execution_count": 32,
   "id": "b934e989-c19f-4c14-a233-f55939b80718",
   "metadata": {},
   "outputs": [],
   "source": [
    "for data in train_loader:\n",
    "    break"
   ]
  },
  {
   "cell_type": "code",
   "execution_count": 36,
   "id": "2d5f7378-6305-4e8b-a95b-91fd8aeb50bd",
   "metadata": {},
   "outputs": [],
   "source": [
    "data.x = make_x(data)"
   ]
  },
  {
   "cell_type": "code",
   "execution_count": 65,
   "id": "35b80720-282d-4cf1-8c2c-dbc9066687ed",
   "metadata": {},
   "outputs": [
    {
     "data": {
      "text/plain": [
       "tensor([ 0,  0,  0,  ..., 31, 31, 31])"
      ]
     },
     "execution_count": 65,
     "metadata": {},
     "output_type": "execute_result"
    }
   ],
   "source": [
    "data.batch"
   ]
  },
  {
   "cell_type": "code",
   "execution_count": 41,
   "id": "f78918c4-f5e2-46bc-be69-3776a64d0417",
   "metadata": {},
   "outputs": [
    {
     "data": {
      "text/plain": [
       "torch.Size([32, 4])"
      ]
     },
     "execution_count": 41,
     "metadata": {},
     "output_type": "execute_result"
    }
   ],
   "source": [
    "model(data).shape"
   ]
  },
  {
   "cell_type": "code",
   "execution_count": null,
   "id": "41775686-7ed7-4a3b-9dd0-c46a3054ecd5",
   "metadata": {},
   "outputs": [],
   "source": []
  }
 ],
 "metadata": {
  "kernelspec": {
   "display_name": "Python 3",
   "language": "python",
   "name": "python3"
  },
  "language_info": {
   "codemirror_mode": {
    "name": "ipython",
    "version": 3
   },
   "file_extension": ".py",
   "mimetype": "text/x-python",
   "name": "python",
   "nbconvert_exporter": "python",
   "pygments_lexer": "ipython3",
   "version": "3.8.8"
  }
 },
 "nbformat": 4,
 "nbformat_minor": 5
}
