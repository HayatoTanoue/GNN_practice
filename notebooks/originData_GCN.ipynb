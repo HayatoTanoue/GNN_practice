{
 "cells": [
  {
   "cell_type": "markdown",
   "id": "081a7615-65cd-40b4-8201-e2024da43d2d",
   "metadata": {},
   "source": [
    "# original data GCN"
   ]
  },
  {
   "cell_type": "code",
   "execution_count": 61,
   "id": "ee3779f7-7df8-4461-8c98-81e0cea37338",
   "metadata": {},
   "outputs": [],
   "source": [
    "import sys\n",
    "sys.path.append(\"../codes\")\n",
    "\n",
    "import torch\n",
    "import networkx as nx\n",
    "import numpy as np\n",
    "import matplotlib.pyplot as plt\n",
    "import seaborn as sns\n",
    "from glob import glob"
   ]
  },
  {
   "cell_type": "code",
   "execution_count": 10,
   "id": "454c55ed-d971-476b-bd2c-fd3a3e853c7e",
   "metadata": {},
   "outputs": [],
   "source": [
    "from set_data_folder import make_train_data\n",
    "from model import GCN\n",
    "from train_test import train, test\n",
    "\n",
    "from torch_geometric.utils import from_networkx\n",
    "from torch_geometric.data import Data, DataLoader"
   ]
  },
  {
   "cell_type": "code",
   "execution_count": 3,
   "id": "db67b4d5-72a0-4e54-b9bc-b83f485f8b90",
   "metadata": {},
   "outputs": [],
   "source": [
    "# make train data folder\n",
    "node = \"100\"\n",
    "p_s = [\n",
    "    {\"kind\": \"barabasi\", \"node\": [node], \"p\": [\"2\"]},\n",
    "    {\"kind\": \"noGrowth\", \"node\": [node], \"p\": [\"200\"]},\n",
    "    {\"kind\": \"noAttach\", \"node\": [node], \"p\": [\"2\"]},\n",
    "    {\"kind\": \"random\", \"node\": [node], \"p\": [\"0.04\"]}\n",
    "]\n",
    "\n",
    "make_train_data(p_s, \"../train_data/net\").copy_data()"
   ]
  },
  {
   "cell_type": "code",
   "execution_count": 54,
   "id": "418458ab-6952-41c0-a6d4-76527014d0b3",
   "metadata": {},
   "outputs": [],
   "source": [
    "def data_from_adjlist(path, label):\n",
    "    G = nx.read_adjlist(path)\n",
    "    data = from_networkx(G)\n",
    "#     data.x = torch.tensor([[d] for d in list(dict(nx.degree_centrality(G)).values())], dtype=torch.float)\n",
    "#     data.x = torch.tensor([[float(d / 100)] for d in list(dict(G.degree()).values())])\n",
    "    data.x = torch.tensor([[float(1)] for i in range(100)])\n",
    "    data.y = torch.tensor([label])\n",
    "    return data\n",
    "\n",
    "def make_datasets(batch_size=32, split_rate=0.7):\n",
    "    train_data_list = []\n",
    "    test_data_list = []\n",
    "    for i, file in enumerate(sorted(glob(\"/workspace/my_data/*\"))):\n",
    "        # adjlist のパスを取得\n",
    "        paths = glob(file + \"/*.adjlist\")\n",
    "        \n",
    "        index = int(len(paths) * split_rate)\n",
    "        train_data_list += [data_from_adjlist(p, i) for p in paths[:index]]\n",
    "        test_data_list += [data_from_adjlist(p, i) for p in paths[index:]]\n",
    "        \n",
    "    train_data_loader = DataLoader(train_data_list, batch_size=batch_size, shuffle=True)\n",
    "    test_data_loader = DataLoader(test_data_list, batch_size=batch_size, shuffle=False)\n",
    "    \n",
    "    return train_data_loader, test_data_loader"
   ]
  },
  {
   "cell_type": "code",
   "execution_count": 55,
   "id": "4c98d334-469e-4f13-b2f5-abf1134e87d7",
   "metadata": {},
   "outputs": [],
   "source": [
    "train_loader, test_loader = make_datasets(batch_size=100)"
   ]
  },
  {
   "cell_type": "code",
   "execution_count": 56,
   "id": "a778b508-9d6b-42c3-ad99-427a1157742a",
   "metadata": {},
   "outputs": [
    {
     "data": {
      "text/plain": [
       "device(type='cuda', index=0)"
      ]
     },
     "execution_count": 56,
     "metadata": {},
     "output_type": "execute_result"
    }
   ],
   "source": [
    "device = torch.device(\"cuda:0\" if torch.cuda.is_available() else \"cpu\")\n",
    "device"
   ]
  },
  {
   "cell_type": "code",
   "execution_count": 66,
   "id": "5e20e731-0877-4760-90b0-5aca895b00ce",
   "metadata": {},
   "outputs": [
    {
     "name": "stdout",
     "output_type": "stream",
     "text": [
      "Epoch: 001, Train Acc: 0.6844, Test Acc: 0.6928\n",
      "Epoch: 002, Train Acc: 0.6224, Test Acc: 0.6202\n",
      "Epoch: 003, Train Acc: 0.5994, Test Acc: 0.5947\n",
      "Epoch: 004, Train Acc: 0.7357, Test Acc: 0.7385\n",
      "Epoch: 005, Train Acc: 0.7221, Test Acc: 0.7268\n",
      "Epoch: 006, Train Acc: 0.6474, Test Acc: 0.6460\n",
      "Epoch: 007, Train Acc: 0.7144, Test Acc: 0.7123\n",
      "Epoch: 008, Train Acc: 0.7240, Test Acc: 0.7203\n",
      "Epoch: 009, Train Acc: 0.7411, Test Acc: 0.7425\n",
      "Epoch: 010, Train Acc: 0.7201, Test Acc: 0.7297\n",
      "Epoch: 011, Train Acc: 0.7457, Test Acc: 0.7493\n",
      "Epoch: 012, Train Acc: 0.7428, Test Acc: 0.7443\n",
      "Epoch: 013, Train Acc: 0.7450, Test Acc: 0.7468\n",
      "Epoch: 014, Train Acc: 0.7394, Test Acc: 0.7380\n",
      "Epoch: 015, Train Acc: 0.7451, Test Acc: 0.7473\n",
      "Epoch: 016, Train Acc: 0.7430, Test Acc: 0.7458\n",
      "Epoch: 017, Train Acc: 0.7450, Test Acc: 0.7482\n",
      "Epoch: 018, Train Acc: 0.7450, Test Acc: 0.7478\n",
      "Epoch: 019, Train Acc: 0.7455, Test Acc: 0.7477\n"
     ]
    }
   ],
   "source": [
    "# set model and train\n",
    "model = GCN(hidden_channels=64, num_classes=4, num_node_feature=1)\n",
    "model.to(device)\n",
    "optimizer = torch.optim.Adagrad(model.parameters(), lr=0.05, eps=1e-5)\n",
    "criterion = torch.nn.CrossEntropyLoss()\n",
    "\n",
    "train_accs = []\n",
    "test_accs = []\n",
    "\n",
    "\n",
    "for epoch in range(1, 20):\n",
    "    train(model, train_loader, criterion, optimizer, device)\n",
    "    train_acc = test(model, train_loader, device)\n",
    "    test_acc = test(model, test_loader, device)\n",
    "    \n",
    "    train_accs.append(train_acc)\n",
    "    test_accs.append(test_acc)\n",
    "    \n",
    "    print(f'Epoch: {epoch:03d}, Train Acc: {train_acc:.4f}, Test Acc: {test_acc:.4f}')"
   ]
  },
  {
   "cell_type": "code",
   "execution_count": 67,
   "id": "99899854-04ff-4db3-b720-a39c988ec76b",
   "metadata": {},
   "outputs": [
    {
     "data": {
      "text/plain": [
       "<matplotlib.legend.Legend at 0x7fb584a573a0>"
      ]
     },
     "execution_count": 67,
     "metadata": {},
     "output_type": "execute_result"
    },
    {
     "data": {
      "image/png": "[encoded data removed]",
      "text/plain": [
       "<Figure size 432x288 with 1 Axes>"
      ]
     },
     "metadata": {},
     "output_type": "display_data"
    }
   ],
   "source": [
    "# 学習曲線の保存\n",
    "plt.style.use('ggplot')\n",
    "plt.plot(train_accs, label=\"train\")\n",
    "plt.plot(test_accs, label=\"test\")\n",
    "plt.ylim(0,1)\n",
    "plt.legend()"
   ]
  },
  {
   "cell_type": "code",
   "execution_count": 37,
   "id": "96d8d0a5-6d3b-4ea2-907e-56692fd31552",
   "metadata": {},
   "outputs": [
    {
     "data": {
      "text/plain": [
       "tensor([[ 8],\n",
       "        [12],\n",
       "        [ 8],\n",
       "        [ 8],\n",
       "        [ 5],\n",
       "        [ 7],\n",
       "        [ 6],\n",
       "        [ 6],\n",
       "        [ 3],\n",
       "        [ 9],\n",
       "        [ 6],\n",
       "        [ 4],\n",
       "        [ 7],\n",
       "        [ 3],\n",
       "        [ 5],\n",
       "        [ 3],\n",
       "        [ 2],\n",
       "        [ 9],\n",
       "        [ 4],\n",
       "        [ 6],\n",
       "        [ 3],\n",
       "        [ 9],\n",
       "        [ 3],\n",
       "        [ 2],\n",
       "        [ 2],\n",
       "        [ 6],\n",
       "        [ 3],\n",
       "        [ 2],\n",
       "        [ 3],\n",
       "        [ 9],\n",
       "        [ 3],\n",
       "        [ 5],\n",
       "        [ 2],\n",
       "        [ 5],\n",
       "        [ 3],\n",
       "        [ 2],\n",
       "        [10],\n",
       "        [ 9],\n",
       "        [ 3],\n",
       "        [ 2],\n",
       "        [ 2],\n",
       "        [ 2],\n",
       "        [ 7],\n",
       "        [ 2],\n",
       "        [ 2],\n",
       "        [ 5],\n",
       "        [ 3],\n",
       "        [ 5],\n",
       "        [ 3],\n",
       "        [ 2],\n",
       "        [ 4],\n",
       "        [ 2],\n",
       "        [ 2],\n",
       "        [ 9],\n",
       "        [ 2],\n",
       "        [ 3],\n",
       "        [ 3],\n",
       "        [ 2],\n",
       "        [ 2],\n",
       "        [ 2],\n",
       "        [ 2],\n",
       "        [ 3],\n",
       "        [ 2],\n",
       "        [ 2],\n",
       "        [ 5],\n",
       "        [ 4],\n",
       "        [ 3],\n",
       "        [ 3],\n",
       "        [ 3],\n",
       "        [ 2],\n",
       "        [ 2],\n",
       "        [ 4],\n",
       "        [ 4],\n",
       "        [ 4],\n",
       "        [ 3],\n",
       "        [ 5],\n",
       "        [ 2],\n",
       "        [ 2],\n",
       "        [ 5],\n",
       "        [ 4],\n",
       "        [ 3],\n",
       "        [ 2],\n",
       "        [ 4],\n",
       "        [ 6],\n",
       "        [ 2],\n",
       "        [ 3],\n",
       "        [ 4],\n",
       "        [ 2],\n",
       "        [ 3],\n",
       "        [ 3],\n",
       "        [ 3],\n",
       "        [ 3],\n",
       "        [ 2],\n",
       "        [ 3],\n",
       "        [ 2],\n",
       "        [ 2],\n",
       "        [ 2],\n",
       "        [ 2],\n",
       "        [ 4],\n",
       "        [ 2]])"
      ]
     },
     "execution_count": 37,
     "metadata": {},
     "output_type": "execute_result"
    }
   ],
   "source": [
    "data.x[:100]"
   ]
  },
  {
   "cell_type": "code",
   "execution_count": null,
   "id": "12c989b4-0e86-4b6e-8f11-67e68aec87be",
   "metadata": {},
   "outputs": [],
   "source": []
  }
 ],
 "metadata": {
  "kernelspec": {
   "display_name": "Python 3",
   "language": "python",
   "name": "python3"
  },
  "language_info": {
   "codemirror_mode": {
    "name": "ipython",
    "version": 3
   },
   "file_extension": ".py",
   "mimetype": "text/x-python",
   "name": "python",
   "nbconvert_exporter": "python",
   "pygments_lexer": "ipython3",
   "version": "3.8.8"
  }
 },
 "nbformat": 4,
 "nbformat_minor": 5
}
