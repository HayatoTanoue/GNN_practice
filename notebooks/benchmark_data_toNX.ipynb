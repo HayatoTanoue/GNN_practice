{
 "cells": [
  {
   "cell_type": "markdown",
   "id": "36dd7d78-d501-420f-b89a-adbe607f8ff6",
   "metadata": {},
   "source": [
    "# ベンチマークデータを扱ってみる"
   ]
  },
  {
   "cell_type": "code",
   "execution_count": 8,
   "id": "bdca13f1-e97c-4f8a-8762-e7efca87f10e",
   "metadata": {},
   "outputs": [],
   "source": [
    "import os\n",
    "import sys\n",
    "import torch\n",
    "import networkx as nx\n",
    "import matplotlib.pyplot as plt\n",
    "from tqdm import tqdm\n",
    "from torch_geometric.datasets import TUDataset\n",
    "from torch_geometric.utils import to_networkx\n",
    "from utils import network_to_image\n",
    "sys.path.append(\"../codes\")\n",
    "%matplotlib inline"
   ]
  },
  {
   "cell_type": "code",
   "execution_count": 5,
   "id": "8cdbcd4b-2409-443b-b2d4-9bea6d094f5e",
   "metadata": {},
   "outputs": [
    {
     "name": "stdout",
     "output_type": "stream",
     "text": [
      "\n",
      "Dataset: COLLAB(5000):\n",
      "====================\n",
      "Number of graphs: 5000\n",
      "Number of features: 0\n",
      "Number of classes: 3\n",
      "\n",
      "Data(edge_index=[2, 1980], y=[1])\n",
      "=============================================================\n",
      "Number of nodes: 45\n",
      "Number of edges: 1980\n",
      "Average node degree: 44.00\n",
      "Contains isolated nodes: False\n",
      "Contains self-loops: False\n",
      "Is undirected: True\n"
     ]
    }
   ],
   "source": [
    "dataset = TUDataset(root='data/TUDataset', name='COLLAB')\n",
    "\n",
    "print()\n",
    "print(f'Dataset: {dataset}:')\n",
    "print('====================')\n",
    "print(f'Number of graphs: {len(dataset)}')\n",
    "print(f'Number of features: {dataset.num_features}')\n",
    "print(f'Number of classes: {dataset.num_classes}')\n",
    "\n",
    "data = dataset[0]  # Get the first graph object.\n",
    "\n",
    "print()\n",
    "print(data)\n",
    "print('=============================================================')\n",
    "\n",
    "# Gather some statistics about the first graph.\n",
    "print(f'Number of nodes: {data.num_nodes}')\n",
    "print(f'Number of edges: {data.num_edges}')\n",
    "print(f'Average node degree: {data.num_edges / data.num_nodes:.2f}')\n",
    "print(f'Contains isolated nodes: {data.contains_isolated_nodes()}')\n",
    "print(f'Contains self-loops: {data.contains_self_loops()}')\n",
    "print(f'Is undirected: {data.is_undirected()}')"
   ]
  },
  {
   "cell_type": "code",
   "execution_count": 6,
   "id": "cd7cd34c-066b-490d-ae58-143627735feb",
   "metadata": {},
   "outputs": [],
   "source": [
    "G = to_networkx(data)\n",
    "G = nx.Graph(G)\n",
    "# origin image save\n",
    "img = network_to_image(G, shuffle=True)"
   ]
  },
  {
   "cell_type": "code",
   "execution_count": 7,
   "id": "b3ae478b-6ebe-47b5-babd-c52dfd571a87",
   "metadata": {},
   "outputs": [
    {
     "data": {
      "image/png": "[encoded data removed]",
      "text/plain": [
       "<PIL.Image.Image image mode=L size=45x45 at 0x7F0BCDE58040>"
      ]
     },
     "execution_count": 7,
     "metadata": {},
     "output_type": "execute_result"
    }
   ],
   "source": []
  },
  {
   "cell_type": "code",
   "execution_count": 15,
   "id": "90437894-2232-4f58-b448-6115dacacff6",
   "metadata": {},
   "outputs": [
    {
     "name": "stdout",
     "output_type": "stream",
     "text": [
      "Downloading https://www.chrsmrrs.com/graphkerneldatasets/DD.zip\n",
      "Extracting data/TUDataset/DD/DD.zip\n",
      "Processing...\n"
     ]
    },
    {
     "name": "stderr",
     "output_type": "stream",
     "text": [
      "  0%|          | 0/1178 [00:00<?, ?it/s]"
     ]
    },
    {
     "name": "stdout",
     "output_type": "stream",
     "text": [
      "Done!\n"
     ]
    },
    {
     "name": "stderr",
     "output_type": "stream",
     "text": [
      "100%|██████████| 1178/1178 [00:18<00:00, 64.44it/s] \n"
     ]
    }
   ],
   "source": [
    "data_name = \"DD\"\n",
    "save_dir = \"data/TUDataset/{}/\".format(data_name)\n",
    "\n",
    "\n",
    "\n",
    "dataset = TUDataset(root='data/TUDataset', name=data_name)\n",
    "\n",
    "# 保存先ファイルを作成\n",
    "for label in range(dataset.num_classes):\n",
    "    os.makedirs(\"data/TUDataset/{}/shuffle/{}\".format(data_name,label))\n",
    "    os.makedirs(\"data/TUDataset/{}/sort/{}\".format(data_name,label))\n",
    "    \n",
    "\n",
    "cnt = 0\n",
    "for data in tqdm(dataset):\n",
    "    label = data.y.item()\n",
    "    \n",
    "    G = to_networkx(data)\n",
    "    G = nx.Graph(G)\n",
    "    \n",
    "    # origin image save\n",
    "    img = network_to_image(G, shuffle=True)\n",
    "    img.save(save_dir + \"shuffle/\" + str(label) + \"/\" + str(cnt) + \".png\")\n",
    "    # sort image save\n",
    "    img = network_to_image(G, sort=True)\n",
    "    img.save(save_dir + \"sort/\" + str(label) + \"/\" + str(cnt) + \".png\")\n",
    "\n",
    "    cnt += 1"
   ]
  },
  {
   "cell_type": "code",
   "execution_count": 13,
   "id": "d54ed4f8-0315-4b49-8634-4ed2e327d0ae",
   "metadata": {},
   "outputs": [
    {
     "data": {
      "text/plain": [
       "2"
      ]
     },
     "execution_count": 13,
     "metadata": {},
     "output_type": "execute_result"
    }
   ],
   "source": []
  },
  {
   "cell_type": "code",
   "execution_count": null,
   "id": "f6883843-ee68-47de-84ce-49373bf36ebc",
   "metadata": {},
   "outputs": [],
   "source": []
  }
 ],
 "metadata": {
  "kernelspec": {
   "display_name": "Python 3",
   "language": "python",
   "name": "python3"
  },
  "language_info": {
   "codemirror_mode": {
    "name": "ipython",
    "version": 3
   },
   "file_extension": ".py",
   "mimetype": "text/x-python",
   "name": "python",
   "nbconvert_exporter": "python",
   "pygments_lexer": "ipython3",
   "version": "3.8.8"
  }
 },
 "nbformat": 4,
 "nbformat_minor": 5
}
