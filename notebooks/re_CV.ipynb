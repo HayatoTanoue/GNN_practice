{
 "cells": [
  {
   "cell_type": "markdown",
   "id": "846fb777-2fd4-4795-97d0-430d088dc1e1",
   "metadata": {},
   "source": [
    "# 各種統一実験\n",
    "\n",
    "## optimizer\n",
    "- Adam\n",
    "\n",
    "## learning rate\n",
    "- 0.01\n",
    "- 0.0001\n",
    "\n",
    "## aggregator\n",
    "- sum\n",
    "- mean\n",
    "\n",
    "## batch size\n",
    "- 32\n",
    "\n",
    "## criterion\n",
    "- Cross entoropy"
   ]
  },
  {
   "cell_type": "code",
   "execution_count": 1,
   "id": "f88a44d0-e0b0-4ce4-9d83-40e05bc212b8",
   "metadata": {},
   "outputs": [],
   "source": [
    "import sys\n",
    "sys.path.append(\"../codes\")\n",
    "\n",
    "import numpy as np\n",
    "import pandas as pd\n",
    "import torch\n",
    "import torch.optim as optim\n",
    "\n",
    "from functools import partial\n",
    "from torch_geometric.data import DataLoader\n",
    "from sklearn.model_selection import KFold\n",
    "from torch.utils.data.dataset import Subset\n",
    "\n",
    "from optuna_cv_utils import cv_train, cv_test, make_datasets\n",
    "from set_data_folder import make_train_data\n",
    "\n",
    "from model import GCN\n",
    "from DGCNN import DGCNN_Model"
   ]
  },
  {
   "cell_type": "code",
   "execution_count": 2,
   "id": "369e807c-af31-4c55-81b7-3c7be6549023",
   "metadata": {},
   "outputs": [],
   "source": [
    "def CV(data_list, num_epoch, model_name, adam_lr, pool=\"mean\"):\n",
    "    device = torch.device(\"cuda:0\" if torch.cuda.is_available() else \"cpu\")\n",
    "    \n",
    "    # 交差検証\n",
    "    fold = KFold(\n",
    "        n_splits=10, shuffle=True, random_state=0\n",
    "    )\n",
    "\n",
    "    valid_accs = []\n",
    "    for fold_idx, (train_idx, valid_idx) in enumerate(fold.split(data_list)):\n",
    "        # set model\n",
    "        if model_name ==\"GCN\":\n",
    "            model = GCN(hidden_channels=64,\n",
    "                        num_classes=4, num_node_feature=1, pooling=pool).to(device)\n",
    "        elif model_name == \"DGCNN\":\n",
    "            model = DGCNN_Model(num_features=1, num_classes=4).to(device)\n",
    "            \n",
    "        optimizer = optim.Adam(model.parameters(), lr=adam_lr)\n",
    "        criterion = torch.nn.CrossEntropyLoss()\n",
    "        \n",
    "        # split data\n",
    "        train_loader = DataLoader(\n",
    "            Subset(data_list, train_idx),\n",
    "            shuffle=True,\n",
    "            batch_size=32,\n",
    "        )\n",
    "        valid_loader = DataLoader(\n",
    "            Subset(data_list, valid_idx),\n",
    "            shuffle=False,\n",
    "            batch_size=32,\n",
    "        )\n",
    "\n",
    "        for epoch_idx in range(num_epoch):\n",
    "            # train\n",
    "            cv_train(model, train_loader, device, criterion, optimizer, model_name)\n",
    "            # valid\n",
    "            valid_acc = cv_test(model, valid_loader, device, model_name)\n",
    "\n",
    "        valid_accs.append(valid_acc)\n",
    "\n",
    "    return valid_accs"
   ]
  },
  {
   "cell_type": "code",
   "execution_count": 3,
   "id": "65659479-3447-42fc-9980-62b636cd3cc5",
   "metadata": {},
   "outputs": [
    {
     "name": "stderr",
     "output_type": "stream",
     "text": [
      "100%|██████████| 5000/5000 [00:19<00:00, 250.27it/s]\n",
      "100%|██████████| 5000/5000 [00:18<00:00, 267.69it/s]\n",
      "100%|██████████| 5000/5000 [00:19<00:00, 255.97it/s]\n",
      "100%|██████████| 5000/5000 [00:18<00:00, 267.65it/s]\n"
     ]
    },
    {
     "name": "stdout",
     "output_type": "stream",
     "text": [
      "0.36\n",
      "0.3\n",
      "0.32\n",
      "0.33\n",
      "0.25\n",
      "0.92\n"
     ]
    },
    {
     "name": "stderr",
     "output_type": "stream",
     "text": [
      "100%|██████████| 5000/5000 [00:09<00:00, 522.33it/s]\n",
      "100%|██████████| 5000/5000 [00:09<00:00, 521.35it/s]\n",
      "100%|██████████| 5000/5000 [00:09<00:00, 524.89it/s]\n",
      "100%|██████████| 5000/5000 [00:09<00:00, 510.58it/s]\n"
     ]
    },
    {
     "name": "stdout",
     "output_type": "stream",
     "text": [
      "0.97\n",
      "0.88\n",
      "0.86\n",
      "0.94\n",
      "0.52\n",
      "0.92\n"
     ]
    },
    {
     "name": "stderr",
     "output_type": "stream",
     "text": [
      "100%|██████████| 5000/5000 [00:15<00:00, 315.83it/s]\n",
      "100%|██████████| 5000/5000 [00:15<00:00, 326.66it/s]\n",
      "100%|██████████| 5000/5000 [00:15<00:00, 314.14it/s]\n",
      "100%|██████████| 5000/5000 [00:16<00:00, 302.04it/s]\n"
     ]
    },
    {
     "name": "stdout",
     "output_type": "stream",
     "text": [
      "0.95\n",
      "0.48\n",
      "0.57\n",
      "0.81\n",
      "0.32\n",
      "0.92\n"
     ]
    },
    {
     "name": "stderr",
     "output_type": "stream",
     "text": [
      "100%|██████████| 5000/5000 [00:21<00:00, 229.88it/s]\n",
      "100%|██████████| 5000/5000 [00:20<00:00, 245.48it/s]\n",
      "100%|██████████| 5000/5000 [00:21<00:00, 229.49it/s]\n",
      "100%|██████████| 5000/5000 [00:21<00:00, 233.46it/s]\n"
     ]
    },
    {
     "name": "stdout",
     "output_type": "stream",
     "text": [
      "0.41\n",
      "0.26\n",
      "0.72\n",
      "0.9\n",
      "0.25\n",
      "0.98\n"
     ]
    },
    {
     "name": "stderr",
     "output_type": "stream",
     "text": [
      "100%|██████████| 5000/5000 [00:26<00:00, 186.65it/s]\n",
      "100%|██████████| 5000/5000 [00:24<00:00, 201.71it/s]\n",
      "100%|██████████| 5000/5000 [00:26<00:00, 187.21it/s]\n",
      "100%|██████████| 5000/5000 [00:26<00:00, 185.64it/s]\n"
     ]
    },
    {
     "name": "stdout",
     "output_type": "stream",
     "text": [
      "0.25\n",
      "0.25\n",
      "0.75\n",
      "0.76\n",
      "0.25\n",
      "0.98\n"
     ]
    },
    {
     "name": "stderr",
     "output_type": "stream",
     "text": [
      "100%|██████████| 5000/5000 [00:31<00:00, 156.51it/s]\n",
      "100%|██████████| 5000/5000 [00:28<00:00, 172.85it/s]\n",
      "100%|██████████| 5000/5000 [00:31<00:00, 157.69it/s]\n",
      "100%|██████████| 5000/5000 [00:33<00:00, 151.12it/s]\n"
     ]
    },
    {
     "name": "stdout",
     "output_type": "stream",
     "text": [
      "0.36\n",
      "0.25\n",
      "0.47\n",
      "0.54\n",
      "0.25\n",
      "0.99\n"
     ]
    }
   ],
   "source": [
    "m_list = [2, 4, 6, 8, 10]\n",
    "p_list = {\"100\": [0.04, 0.08, 0.11, 0.15, 0.19], \"1000\":[0.004, 0.008, 0.012, 0.016, 0.02]}\n",
    "step_list = {\"100\": [200, 384, 564, 736, 900], \"1000\":[1996, 3984, 5964, 7936, 9900]}\n",
    "\n",
    "df = pd.DataFrame(columns=[\"model\", \"node\", \"p_s\", \"aggre\", \"adam_lr\", \"ave_acc\", \"std_acc\"])\n",
    "\n",
    "\n",
    "cnt = 0\n",
    "# poisson dataset\n",
    "data_list = make_datasets()\n",
    "for model_name in [\"GCN\", \"DGCNN\"]:\n",
    "    for adam_lr in [0.01, 0.0001]:\n",
    "        if model_name == \"GCN\":\n",
    "            for p in [\"mean\", \"sum\"]:\n",
    "                valid_accs = CV(data_list, 10, model_name, adam_lr, pool=p)\n",
    "\n",
    "                info  = {\"model\": model_name, \"node\": \"100\", \"p_s\": f\"poisson\", \"aggre\": p,\n",
    "                 \"adam_lr\": adam_lr, \"ave_acc\": np.average(valid_accs), \"std_acc\": np.std(valid_accs)\n",
    "                }\n",
    "\n",
    "                df = df.append(pd.Series(info, name=cnt))\n",
    "                cnt += 1\n",
    "                \n",
    "                print(round(np.average(valid_accs),2))\n",
    "        else:\n",
    "            valid_accs = CV(data_list, 10, model_name, adam_lr)\n",
    "\n",
    "            info  = {\"model\": model_name, \"node\": \"100\", \"p_s\": f\"poisson\", \"aggre\": \"None\",\n",
    "             \"adam_lr\": adam_lr, \"ave_acc\": np.average(valid_accs), \"std_acc\": np.std(valid_accs)\n",
    "            }\n",
    "\n",
    "            df = df.append(pd.Series(info, name=cnt))\n",
    "            cnt += 1\n",
    "            print(round(np.average(valid_accs),2))\n",
    "\n",
    "# subset dataset\n",
    "for node in [\"100\"]:\n",
    "    for m, p, step in zip(m_list, p_list[node], step_list[node]):\n",
    "        # make train data folder\n",
    "        p_s = [\n",
    "            {\"kind\": \"barabasi\", \"node\": [node], \"p\": [str(m)]},\n",
    "            {\"kind\": \"noGrowth\", \"node\": [node], \"p\": [str(step)]},\n",
    "            {\"kind\": \"noAttach\", \"node\": [node], \"p\": [str(m)]},\n",
    "            {\"kind\": \"random\", \"node\": [node], \"p\": [str(p)]}\n",
    "        ]\n",
    "\n",
    "        # train data folderの作成\n",
    "        make_train_data(p_s, \"../train_data/net\").copy_data()\n",
    "        # dataset の作成\n",
    "        data_list = make_datasets()\n",
    "        \n",
    "        for model_name in [\"GCN\", \"DGCNN\"]:\n",
    "            for adam_lr in [0.01, 0.0001]:\n",
    "                if model_name == \"GCN\":\n",
    "                    for p in [\"mean\", \"sum\"]:\n",
    "                        valid_accs = CV(data_list, 10, model_name, adam_lr, pool=p)\n",
    "\n",
    "                        info  = {\"model\": model_name, \"node\": node, \"p_s\": f\"{m}_{p}_{step}\", \"aggre\": p,\n",
    "                         \"adam_lr\": adam_lr, \"ave_acc\": np.average(valid_accs), \"std_acc\": np.std(valid_accs)\n",
    "                        }\n",
    "\n",
    "                        df = df.append(pd.Series(info, name=cnt))\n",
    "                        cnt += 1\n",
    "                        print(round(np.average(valid_accs),2))\n",
    "                else:\n",
    "                    valid_accs = CV(data_list, 10, model_name, adam_lr)\n",
    "\n",
    "                    info  = {\"model\": model_name, \"node\": node, \"p_s\": f\"{m}_{p}_{step}\", \"aggre\": \"None\",\n",
    "                     \"adam_lr\": adam_lr, \"ave_acc\": np.average(valid_accs), \"std_acc\": np.std(valid_accs)\n",
    "                    }\n",
    "\n",
    "                    df = df.append(pd.Series(info, name=cnt))\n",
    "                    cnt += 1\n",
    "                    print(round(np.average(valid_accs),2))"
   ]
  },
  {
   "cell_type": "code",
   "execution_count": 5,
   "id": "2095dbdf-b3d7-4943-8d2d-f8cfb99f8949",
   "metadata": {},
   "outputs": [],
   "source": [
    "df.to_csv(\"paper_result/re_result.csv\", index=False)"
   ]
  },
  {
   "cell_type": "code",
   "execution_count": null,
   "id": "2811824b-97c3-44a1-a5b9-b00847567db1",
   "metadata": {},
   "outputs": [],
   "source": []
  }
 ],
 "metadata": {
  "kernelspec": {
   "display_name": "Python 3",
   "language": "python",
   "name": "python3"
  },
  "language_info": {
   "codemirror_mode": {
    "name": "ipython",
    "version": 3
   },
   "file_extension": ".py",
   "mimetype": "text/x-python",
   "name": "python",
   "nbconvert_exporter": "python",
   "pygments_lexer": "ipython3",
   "version": "3.8.8"
  }
 },
 "nbformat": 4,
 "nbformat_minor": 5
}
